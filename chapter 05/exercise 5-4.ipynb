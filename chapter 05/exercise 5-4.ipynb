{
 "cells": [
  {
   "cell_type": "markdown",
   "source": [
    "## 실전문제 2. 미로 탈출"
   ],
   "metadata": {
    "collapsed": false
   }
  },
  {
   "cell_type": "markdown",
   "source": [
    "### 내 방식으로 풀어본 코드"
   ],
   "metadata": {
    "collapsed": false
   }
  },
  {
   "cell_type": "code",
   "execution_count": 1,
   "metadata": {
    "collapsed": true
   },
   "outputs": [
    {
     "name": "stdout",
     "output_type": "stream",
     "text": [
      "10\n"
     ]
    }
   ],
   "source": [
    "from collections import deque\n",
    "\n",
    "# 15:22\n",
    "n, m = map(int, input().split())\n",
    "INF = n * m * 2\n",
    "\n",
    "\n",
    "def is_valid(x, y):\n",
    "    if x < 0 or x >= n or y < 0 or y >= m:\n",
    "        return False\n",
    "    else:\n",
    "        return True\n",
    "\n",
    "\n",
    "maze = []\n",
    "for i in range(n):\n",
    "    maze.append(input())\n",
    "\n",
    "queue = deque()\n",
    "queue.append((0, 0))\n",
    "\n",
    "cost = [[INF for _ in range(m)] for __ in range(n)]\n",
    "cost[0][0] = 1\n",
    "dx = [0, 0, 1, -1]\n",
    "dy = [1, -1, 0, 0]\n",
    "minimum = 0\n",
    "\n",
    "while queue:\n",
    "    x, y = queue.popleft()\n",
    "    for i in range(len(dx)):\n",
    "        nx = x + dx[i]\n",
    "        ny = y + dy[i]\n",
    "        if is_valid(nx, ny) and maze[nx][ny] == '1':\n",
    "            if cost[nx][ny] > cost[x][y] + 1:\n",
    "                cost[nx][ny] = cost[x][y] + 1\n",
    "                queue.append((nx, ny))\n",
    "\n",
    "print(cost[n - 1][m - 1])\n",
    "# 15:35"
   ]
  },
  {
   "cell_type": "code",
   "execution_count": null,
   "outputs": [],
   "source": [],
   "metadata": {
    "collapsed": false,
    "pycharm": {
     "name": "#%%\n"
    }
   }
  }
 ],
 "metadata": {
  "kernelspec": {
   "display_name": "Python 3",
   "language": "python",
   "name": "python3"
  },
  "language_info": {
   "codemirror_mode": {
    "name": "ipython",
    "version": 2
   },
   "file_extension": ".py",
   "mimetype": "text/x-python",
   "name": "python",
   "nbconvert_exporter": "python",
   "pygments_lexer": "ipython2",
   "version": "2.7.6"
  }
 },
 "nbformat": 4,
 "nbformat_minor": 0
}