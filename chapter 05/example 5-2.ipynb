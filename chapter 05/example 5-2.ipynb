{
 "cells": [
  {
   "cell_type": "markdown",
   "source": [
    "# 탐색 알고리즘 DFS/BFS"
   ],
   "metadata": {
    "collapsed": false
   }
  },
  {
   "cell_type": "markdown",
   "source": [
    "## 그래프 표현 방식\n",
    "0 1 1 0 0 0 0 1\n",
    "1 0 0 0 0 0 1 0\n",
    "1 0 0 1 1 0 0 0\n",
    "0 0 1 0 1 0 0 0\n",
    "0 0 1 1 0 0 0 0\n",
    "0 0 0 0 0 0 1 0\n",
    "0 1 0 0 0 1 0 1\n",
    "1 0 0 0 0 0 1 0\n",
    "의 인접 행렬 그래프를 다른 방식으로 나타내면?"
   ],
   "metadata": {
    "collapsed": false
   }
  },
  {
   "cell_type": "markdown",
   "source": [
    "#### 인접 리스트 방식"
   ],
   "metadata": {
    "collapsed": false
   }
  },
  {
   "cell_type": "code",
   "execution_count": 1,
   "metadata": {
    "collapsed": true
   },
   "outputs": [
    {
     "name": "stdout",
     "output_type": "stream",
     "text": [
      "[[(1, 7), (2, 5)], [(0, 7)], [(0, 5)]]\n"
     ]
    }
   ],
   "source": [
    "# 3개의 행(Row)을 갖는 2차원 리스트 선언\n",
    "graph = [[] for _ in range(3)]\n",
    "\n",
    "# 노드 0에 연결된 인접 노드 정보 저장 --> (다음 지점 번호, 비용)\n",
    "graph[0].append((1, 7))  # pair를 저장하는게 목적이므로 괄호가 두 번 둘러싸여짐에 주의\n",
    "graph[0].append((2, 5))\n",
    "\n",
    "# 노드 1에 연결된 인접 노드 정보 저장\n",
    "graph[1].append((0, 7))\n",
    "\n",
    "# 노드 2에 연결된 노드 정보 저장(노드, 거리)\n",
    "graph[2].append((0, 5))\n",
    "\n",
    "print(graph)"
   ]
  },
  {
   "cell_type": "markdown",
   "source": [
    "## DFS"
   ],
   "metadata": {
    "collapsed": false
   }
  },
  {
   "cell_type": "markdown",
   "source": [
    "#### 내 방식으로 짠 코드\n",
    "* 스택을 이용한 방식"
   ],
   "metadata": {
    "collapsed": false
   }
  },
  {
   "cell_type": "code",
   "execution_count": 5,
   "outputs": [
    {
     "name": "stdout",
     "output_type": "stream",
     "text": [
      "[1, 2, 7, 6, 8, 3, 4, 5]\n"
     ]
    }
   ],
   "source": [
    "from collections import deque\n",
    "\n",
    "graph = [[], [2, 3, 8], [1, 7], [1, 4, 5], [3, 5], [3, 4], [7], [2, 6, 8], [1, 7]]\n",
    "chk = [0 for _ in range(len(graph) + 1)]\n",
    "\n",
    "stack = deque()\n",
    "stack.append(1)\n",
    "chk[1] = 1\n",
    "\n",
    "ans = [1]\n",
    "\n",
    "while stack:\n",
    "    cur = stack[-1]\n",
    "    sw = 0\n",
    "    for i in graph[cur]:\n",
    "        if chk[i] == 0:\n",
    "            chk[i] = 1\n",
    "            ans.append(i)\n",
    "            sw = 1\n",
    "            stack.append(i)\n",
    "            break\n",
    "    if sw == 0:\n",
    "        stack.pop()\n",
    "\n",
    "print(ans)"
   ],
   "metadata": {
    "collapsed": false,
    "pycharm": {
     "name": "#%%\n"
    }
   }
  },
  {
   "cell_type": "markdown",
   "source": [
    "* 재귀함수 호출을 이용한 방식"
   ],
   "metadata": {
    "collapsed": false
   }
  },
  {
   "cell_type": "code",
   "execution_count": 10,
   "outputs": [
    {
     "name": "stdout",
     "output_type": "stream",
     "text": [
      "[0, 0, 0, 0, 0, 0, 0, 0, 0, 0]\n",
      "[1, 2, 7, 6, 8, 3, 4, 5]\n"
     ]
    }
   ],
   "source": [
    "graph = [[], [2, 3, 8], [1, 7], [1, 4, 5], [3, 5], [3, 4], [7], [2, 6, 8], [1, 7]]\n",
    "chk = [0 for _ in range(len(graph) + 1)]\n",
    "\n",
    "\n",
    "def dfs(pos, order):\n",
    "    for i in graph[pos]:\n",
    "        if chk[i] == 0:\n",
    "            chk[i] = 1\n",
    "            order.append(i)\n",
    "            dfs(i, order)\n",
    "\n",
    "\n",
    "ans = [1]\n",
    "chk[1] = 1\n",
    "dfs(1, ans)\n",
    "print(ans)"
   ],
   "metadata": {
    "collapsed": false,
    "pycharm": {
     "name": "#%%\n"
    }
   }
  },
  {
   "cell_type": "markdown",
   "source": [
    "### 교재에 있는 모범 답안을 토대로 작성한 코드"
   ],
   "metadata": {
    "collapsed": false
   }
  },
  {
   "cell_type": "code",
   "execution_count": 11,
   "outputs": [
    {
     "name": "stdout",
     "output_type": "stream",
     "text": [
      "1 2 7 6 8 3 4 5 "
     ]
    }
   ],
   "source": [
    "def dfs(graph, v, check):\n",
    "    # 지금 서있는 노드를 방문 처리\n",
    "    check[v] = True  # 나는 재귀 호출 전에 방문 처리하는데 여기서는 방문 한 후에 처리.\n",
    "    print(v, end=' ')  # 내 코드랑 차이점이라면 각 방문때마다 바로바로 출력한다는거정도..?\n",
    "    # 현재 노드에 인접한 다른 노드들 중 방문하지 않은 노드가 있다면 방문\n",
    "    for i in graph[v]:\n",
    "        if not check[i]:\n",
    "            dfs(graph, i, check)\n",
    "\n",
    "\n",
    "graph = [[], [2, 3, 8], [1, 7], [1, 4, 5], [3, 5], [3, 4], [7], [2, 6, 8], [1, 7]]\n",
    "has_visited = [False] * 9\n",
    "dfs(graph, 1, has_visited)"
   ],
   "metadata": {
    "collapsed": false,
    "pycharm": {
     "name": "#%%\n"
    }
   }
  },
  {
   "cell_type": "markdown",
   "source": [
    "## BFS"
   ],
   "metadata": {
    "collapsed": false
   }
  },
  {
   "cell_type": "markdown",
   "source": [
    "### 내 방식으로 짠 코드"
   ],
   "metadata": {
    "collapsed": false
   }
  },
  {
   "cell_type": "code",
   "execution_count": 13,
   "outputs": [
    {
     "name": "stdout",
     "output_type": "stream",
     "text": [
      "1 2 3 8 7 4 5 6 "
     ]
    }
   ],
   "source": [
    "from collections import deque\n",
    "\n",
    "graph = [[], [2, 3, 8], [1, 7], [1, 4, 5], [3, 5], [3, 4], [7], [2, 6, 8], [1, 7]]\n",
    "queue=deque()\n",
    "\n",
    "queue.append(1)\n",
    "check=[False for _ in range(len(graph)+1)]\n",
    "\n",
    "check[1]=True;\n",
    "\n",
    "while queue:\n",
    "    cur=queue.popleft()\n",
    "    print(cur, end=' ')\n",
    "    for i in graph[cur]:\n",
    "        if not check[i]:\n",
    "            check[i]=True\n",
    "            queue.append(i)"
   ],
   "metadata": {
    "collapsed": false,
    "pycharm": {
     "name": "#%%\n"
    }
   }
  },
  {
   "cell_type": "code",
   "execution_count": null,
   "outputs": [],
   "source": [],
   "metadata": {
    "collapsed": false,
    "pycharm": {
     "name": "#%%\n"
    }
   }
  }
 ],
 "metadata": {
  "kernelspec": {
   "display_name": "Python 3",
   "language": "python",
   "name": "python3"
  },
  "language_info": {
   "codemirror_mode": {
    "name": "ipython",
    "version": 2
   },
   "file_extension": ".py",
   "mimetype": "text/x-python",
   "name": "python",
   "nbconvert_exporter": "python",
   "pygments_lexer": "ipython2",
   "version": "2.7.6"
  }
 },
 "nbformat": 4,
 "nbformat_minor": 0
}