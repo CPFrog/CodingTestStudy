{
 "cells": [
  {
   "cell_type": "markdown",
   "source": [
    "## 실전문제 1. 음료수 얼려 먹기\n",
    "* 테스트케이스 1: 4 5 / 00110 / 00011 / 11111 / 00000 || 정답: 3\n",
    "* 테스트케이스 2: 15 14 / 00000111100000 / 11111101111110 / 11011101101110 / 1"
   ],
   "metadata": {
    "collapsed": false
   }
  },
  {
   "cell_type": "code",
   "execution_count": 8,
   "metadata": {
    "collapsed": true
   },
   "outputs": [
    {
     "name": "stdout",
     "output_type": "stream",
     "text": [
      "8\n"
     ]
    }
   ],
   "source": [
    "from collections import deque\n",
    "\n",
    "dx = [0, 0, 1, -1]\n",
    "dy = [1, -1, 0, 0]\n",
    "\n",
    "def range_check(x, y):\n",
    "    if x < 0 or x >= x_lim or y < 0 or y >= y_lim:\n",
    "        return False\n",
    "    else:\n",
    "        return True\n",
    "\n",
    "\n",
    "def bfs(start_x, start_y):\n",
    "    queue = deque()\n",
    "    queue.append((start_x, start_y))\n",
    "    visited[start_x][start_y] = True\n",
    "    while queue:\n",
    "        x, y = queue.popleft()\n",
    "        for i in range(len(dx)):\n",
    "            nx = x + dx[i]\n",
    "            ny = y + dy[i]\n",
    "            if range_check(nx, ny) and graph[nx][ny] == '0' and not visited[nx][ny]:\n",
    "                visited[nx][ny] = True\n",
    "                queue.append((nx, ny))\n",
    "\n",
    "\n",
    "x_lim, y_lim = input().split()\n",
    "x_lim = int(x_lim)\n",
    "y_lim = int(y_lim)\n",
    "graph=[]\n",
    "for row in range(x_lim):\n",
    "    graph.append(input())\n",
    "\n",
    "visited=[[False for _ in range(y_lim)] for __ in range (x_lim)]\n",
    "\n",
    "count=0\n",
    "for row in range(x_lim):\n",
    "    for col in range(y_lim):\n",
    "        if graph[row][col]=='0' and not visited[row][col]:\n",
    "            count+=1\n",
    "            bfs(row, col)\n",
    "\n",
    "print(count)"
   ]
  },
  {
   "cell_type": "markdown",
   "source": [
    "### 교재에 있는 모범 답안을 토대로 보완할 부분만 노트\n",
    "* 교제에서 푼 방식은 dfs이기 때문에 코드 비교 불가, 보완점만 작성"
   ],
   "metadata": {
    "collapsed": false
   }
  },
  {
   "cell_type": "markdown",
   "source": [
    "Line 27~29에서 입력 부분을 더 깔끔한 코드로 작성하기\n",
    "n,m=map(int,input().split())\n",
    "\n",
    "-- 왜 저렇게 못짰는가?: map으로 받으면 마치 하나의 변수에 다 담아야 하는거 아닌가 싶어서...\n",
    "-- too many ~ to unpack 오류 뜨는거 아닌가 싶어서 좀 더럽게 짰음.\n",
    "\n",
    "#### 교재에서는 그래프 입력 받은 거도 정수로 변환해서 했는데... 좀 특이하다. 나중에 봐야지"
   ],
   "metadata": {
    "collapsed": false,
    "pycharm": {
     "name": "#%% md\n",
     "is_executing": true
    }
   }
  },
  {
   "cell_type": "code",
   "execution_count": null,
   "outputs": [],
   "source": [],
   "metadata": {
    "collapsed": false,
    "pycharm": {
     "name": "#%%\n"
    }
   }
  }
 ],
 "metadata": {
  "kernelspec": {
   "display_name": "Python 3",
   "language": "python",
   "name": "python3"
  },
  "language_info": {
   "codemirror_mode": {
    "name": "ipython",
    "version": 2
   },
   "file_extension": ".py",
   "mimetype": "text/x-python",
   "name": "python",
   "nbconvert_exporter": "python",
   "pygments_lexer": "ipython2",
   "version": "2.7.6"
  }
 },
 "nbformat": 4,
 "nbformat_minor": 0
}