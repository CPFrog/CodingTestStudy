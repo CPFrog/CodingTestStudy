{
 "cells": [
  {
   "cell_type": "markdown",
   "source": [
    "## 파이썬으로 자료구조 구현"
   ],
   "metadata": {
    "collapsed": false
   }
  },
  {
   "cell_type": "markdown",
   "source": [
    "### 1. 스택"
   ],
   "metadata": {
    "collapsed": false
   }
  },
  {
   "cell_type": "code",
   "execution_count": 3,
   "metadata": {
    "collapsed": true
   },
   "outputs": [
    {
     "name": "stdout",
     "output_type": "stream",
     "text": [
      "[5, 2, 3, 1]\n",
      "[1, 3, 2, 5]\n"
     ]
    }
   ],
   "source": [
    "stack = []\n",
    "\n",
    "# push(5) - push(2) - push(3) - push(7) - pop() - push(1) - push(4) - pop()\n",
    "stack.append(5)\n",
    "stack.append(2)\n",
    "stack.append(3)\n",
    "stack.append(7)\n",
    "stack.pop()\n",
    "stack.append(1)\n",
    "stack.append(4)\n",
    "stack.pop()\n",
    "\n",
    "print(stack)  # 최하단(가장 먼저 들어온) 원소부터 출력\n",
    "print(stack[::-1])  # 최상단(가장 나중에 들어온) 원소부터 출력"
   ]
  },
  {
   "cell_type": "markdown",
   "source": [
    "C++에서는 #include<stack> 과 같은 라이브러리 호출 필요했는데 기본 함수만으로 되는게 신기하네.."
   ],
   "metadata": {
    "collapsed": false
   }
  },
  {
   "cell_type": "markdown",
   "source": [
    "### 2. 큐"
   ],
   "metadata": {
    "collapsed": false
   }
  },
  {
   "cell_type": "code",
   "execution_count": 4,
   "outputs": [
    {
     "name": "stdout",
     "output_type": "stream",
     "text": [
      "deque([3, 7, 1, 4])\n",
      "deque([4, 1, 7, 3])\n"
     ]
    }
   ],
   "source": [
    "from collections import deque\n",
    "# deque 라이브러리를 사용하는 이유\n",
    "# 1. 스택과 큐의 장점을 모두 채택함\n",
    "# 2. 데이터를 넣고 빼는 속도가 리스트 자료형에 비해 효율적\n",
    "# 3. queue 라이브러리를 이용하는거보다 더 간단\n",
    "# 4. 대부분의 코테에서 collections 모듈을 포함한 기본 라이브러리 사용을 허용하므로 사용해도 무방.\n",
    "\n",
    "queue=deque()\n",
    "# push(5) - push(2) - push(3) - push(7) - pop() - push(1) - push(4) - pop()\n",
    "\n",
    "queue.append(5)\n",
    "queue.append(2)\n",
    "queue.append(3)\n",
    "queue.append(7)\n",
    "queue.popleft()\n",
    "queue.append(1)\n",
    "queue.append(4)\n",
    "queue.popleft()\n",
    "\n",
    "print(queue) # 먼저 들어온(큐의 왼쪽에 있는) 원소부터 출력\n",
    "queue.reverse() # queue의 순서 역순으로 변경\n",
    "print(queue) # 나중에 들어온(큐의 오른쪽에 있는) 원소부터 출력"
   ],
   "metadata": {
    "collapsed": false,
    "pycharm": {
     "name": "#%%\n"
    }
   }
  },
  {
   "cell_type": "markdown",
   "source": [
    "재귀함수에 관한 내용은 생략. (이미 알고있는 내용)"
   ],
   "metadata": {
    "collapsed": false,
    "pycharm": {
     "name": "#%% md\n"
    }
   }
  },
  {
   "cell_type": "code",
   "execution_count": null,
   "outputs": [],
   "source": [],
   "metadata": {
    "collapsed": false,
    "pycharm": {
     "name": "#%%\n"
    }
   }
  }
 ],
 "metadata": {
  "kernelspec": {
   "display_name": "Python 3",
   "language": "python",
   "name": "python3"
  },
  "language_info": {
   "codemirror_mode": {
    "name": "ipython",
    "version": 2
   },
   "file_extension": ".py",
   "mimetype": "text/x-python",
   "name": "python",
   "nbconvert_exporter": "python",
   "pygments_lexer": "ipython2",
   "version": "2.7.6"
  }
 },
 "nbformat": 4,
 "nbformat_minor": 0
}