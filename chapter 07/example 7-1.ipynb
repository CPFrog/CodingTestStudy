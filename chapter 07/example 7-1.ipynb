{
 "cells": [
  {
   "cell_type": "markdown",
   "source": [
    "## 다양한 탐색 기법"
   ],
   "metadata": {
    "collapsed": false
   }
  },
  {
   "cell_type": "markdown",
   "source": [
    "### 순차 탐색"
   ],
   "metadata": {
    "collapsed": false
   }
  },
  {
   "cell_type": "code",
   "execution_count": 2,
   "metadata": {
    "collapsed": true
   },
   "outputs": [
    {
     "name": "stdout",
     "output_type": "stream",
     "text": [
      "3\n"
     ]
    }
   ],
   "source": [
    "n, target = input('데이터의 원소 개수를 입력하고, 찾으려고 하는 데이터를 입력하시오.').split()\n",
    "data = []\n",
    "n = int(n)\n",
    "data = list(input('데이터를 띄어쓰기 단위로 구분해서 입력하시오.').split())\n",
    "\n",
    "for i in range(len(data)):\n",
    "    if data[i] == target:\n",
    "        print(i + 1)\n",
    "        break"
   ]
  },
  {
   "cell_type": "markdown",
   "source": [
    "### 이진 탐색"
   ],
   "metadata": {
    "collapsed": false
   }
  },
  {
   "cell_type": "code",
   "execution_count": 5,
   "outputs": [
    {
     "data": {
      "text/plain": "4"
     },
     "execution_count": 5,
     "metadata": {},
     "output_type": "execute_result"
    }
   ],
   "source": [
    "def binary_search(target, start, end, array):\n",
    "    if start == end:\n",
    "        if array[start] != target:\n",
    "            return -1\n",
    "        else:\n",
    "            return start + 1\n",
    "    mid = (start + end) // 2\n",
    "    if array[mid] > target:\n",
    "        return binary_search(target, start, mid - 1, array)\n",
    "    elif array[mid] < target:\n",
    "        return binary_search(target, mid + 1, end, array)\n",
    "    else:\n",
    "        return mid + 1\n",
    "\n",
    "\n",
    "n, dest = map(int, input().split())\n",
    "\n",
    "data = list(map(int, input().split()))\n",
    "\n",
    "binary_search(dest, 0, n, data)"
   ],
   "metadata": {
    "collapsed": false,
    "pycharm": {
     "name": "#%%\n"
    }
   }
  },
  {
   "cell_type": "markdown",
   "source": [
    "### 빠르게 입력 받기\n",
    "\n",
    "* 입력 데이터의 개수가 많아지면 input()함수보다 sys 라이브러리의 readline() 함수로 입력 받는 것이 빠르다"
   ],
   "metadata": {
    "collapsed": false
   }
  },
  {
   "cell_type": "code",
   "execution_count": 9,
   "outputs": [],
   "source": [
    "import sys\n",
    "input_data=sys.stdin.readline().rstrip()\n",
    "\n",
    "# rstrip(): 입력 후 줄바꿈때 들어오는 엔터 기호를 제거하기 위해 사용.\n",
    "# Jupyer Notebook에서는 위의 코드가 동작하지 않는거같다.."
   ],
   "metadata": {
    "collapsed": false,
    "pycharm": {
     "name": "#%%\n"
    }
   }
  },
  {
   "cell_type": "code",
   "execution_count": null,
   "outputs": [],
   "source": [],
   "metadata": {
    "collapsed": false,
    "pycharm": {
     "name": "#%%\n"
    }
   }
  }
 ],
 "metadata": {
  "kernelspec": {
   "display_name": "Python 3",
   "language": "python",
   "name": "python3"
  },
  "language_info": {
   "codemirror_mode": {
    "name": "ipython",
    "version": 2
   },
   "file_extension": ".py",
   "mimetype": "text/x-python",
   "name": "python",
   "nbconvert_exporter": "python",
   "pygments_lexer": "ipython2",
   "version": "2.7.6"
  }
 },
 "nbformat": 4,
 "nbformat_minor": 0
}