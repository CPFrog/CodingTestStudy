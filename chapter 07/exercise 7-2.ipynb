{
 "cells": [
  {
   "cell_type": "markdown",
   "source": [
    "## 실전문제 1. 부품 찾기\n",
    "* 테스트케이스: 5 / 8 3 7 9 2 / 3 / 5 7 9"
   ],
   "metadata": {
    "collapsed": false
   }
  },
  {
   "cell_type": "code",
   "execution_count": 5,
   "metadata": {
    "collapsed": true
   },
   "outputs": [
    {
     "name": "stdout",
     "output_type": "stream",
     "text": [
      "no yes yes "
     ]
    }
   ],
   "source": [
    "# 10:15\n",
    "def binary_search(target, start, end, array):\n",
    "    if start > end:\n",
    "        return 'no'\n",
    "    mid = (start + end) // 2\n",
    "    if array[mid] > target:\n",
    "        return binary_search(target, start, mid - 1, array)\n",
    "    elif array[mid] < target:\n",
    "        return binary_search(target, mid + 1, end, array)\n",
    "    else:\n",
    "        return 'yes'\n",
    "\n",
    "\n",
    "n = int(input())\n",
    "data = list(map(int, input().split()))\n",
    "data.sort()\n",
    "\n",
    "_ = int(input())\n",
    "target_list = list(map(int, input().split()))\n",
    "\n",
    "for i in target_list:\n",
    "    print(binary_search(i, 0, n, data), end=' ')\n",
    "\n",
    "#풀이 시간 제한은 당연히 만족했음."
   ]
  },
  {
   "cell_type": "markdown",
   "source": [
    "### 교재에 있는 모범 답안을 토대로 작성한 코드"
   ],
   "metadata": {
    "collapsed": false
   }
  },
  {
   "cell_type": "markdown",
   "source": [
    "#### 계수 정렬을 이용한 방법\n",
    "* 단순히 있는지 여부만 필요하기 때문에 각 원소를 Boolean (또는 0,1로 된) 리스트에 넣고 인덱스 접근 방식으로 푸는 방법임"
   ],
   "metadata": {
    "collapsed": false
   }
  },
  {
   "cell_type": "code",
   "execution_count": 6,
   "outputs": [
    {
     "name": "stdout",
     "output_type": "stream",
     "text": [
      "no yes yes "
     ]
    }
   ],
   "source": [
    "n=int(input())\n",
    "stock=[0]*1000000 # 문제 명세에 n의 범위를 이용해 지정. 만약 문제 명세에 이런거 없거나 부품 번호가 n을 넘어간다는 조건 있으면 못쓸듯.\n",
    "\n",
    "for i in input().split(): # 이렇게 작성하면 input().split()이 여러번 동작하는거 아니었나? 한번만 실행되나보네. 신기한 코드.\n",
    "    stock[int(i)]=1\n",
    "\n",
    "m=int(input())\n",
    "x=list(map(int,input().split()))\n",
    "\n",
    "for i in x:\n",
    "    if stock[i]==1:\n",
    "        print('yes', end=' ')\n",
    "    else:\n",
    "        print('no', end=' ')"
   ],
   "metadata": {
    "collapsed": false,
    "pycharm": {
     "name": "#%%\n"
    }
   }
  },
  {
   "cell_type": "markdown",
   "source": [
    "#### 자료형 set (집합) 을 이용한 방법.\n",
    "* 단순히 있는지 여부만 확인하면 되므로 가장 간단하면서 간결"
   ],
   "metadata": {
    "collapsed": false
   }
  },
  {
   "cell_type": "code",
   "execution_count": 8,
   "outputs": [
    {
     "name": "stdout",
     "output_type": "stream",
     "text": [
      "no yes yes "
     ]
    }
   ],
   "source": [
    "n=int(input())\n",
    "data=set(map(int, input().split()))\n",
    "\n",
    "m=int(input())\n",
    "x=list(map(int, input().split()))\n",
    "\n",
    "for i in x:\n",
    "    if i in data:\n",
    "        print('yes', end=' ')\n",
    "    else:\n",
    "        print('no', end=' ')"
   ],
   "metadata": {
    "collapsed": false,
    "pycharm": {
     "name": "#%%\n"
    }
   }
  },
  {
   "cell_type": "code",
   "execution_count": null,
   "outputs": [],
   "source": [],
   "metadata": {
    "collapsed": false,
    "pycharm": {
     "name": "#%%\n"
    }
   }
  }
 ],
 "metadata": {
  "kernelspec": {
   "display_name": "Python 3",
   "language": "python",
   "name": "python3"
  },
  "language_info": {
   "codemirror_mode": {
    "name": "ipython",
    "version": 2
   },
   "file_extension": ".py",
   "mimetype": "text/x-python",
   "name": "python",
   "nbconvert_exporter": "python",
   "pygments_lexer": "ipython2",
   "version": "2.7.6"
  }
 },
 "nbformat": 4,
 "nbformat_minor": 0
}