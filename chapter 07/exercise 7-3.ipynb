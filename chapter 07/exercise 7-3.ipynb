{
 "cells": [
  {
   "cell_type": "markdown",
   "source": [
    "## 실전문제 2. 떡볶이 떡 만들기\n",
    "* 테스트케이스: 4 6 / 19 14 10 17 || 정답: 15"
   ],
   "metadata": {
    "collapsed": false
   }
  },
  {
   "cell_type": "code",
   "execution_count": 10,
   "metadata": {
    "collapsed": true
   },
   "outputs": [
    {
     "name": "stdout",
     "output_type": "stream",
     "text": [
      "9\n"
     ]
    }
   ],
   "source": [
    "#11:06\n",
    "\n",
    "def binary_search(target, start, end, data):\n",
    "    if start >= end:\n",
    "        return -1\n",
    "    mid = (start + end) // 2\n",
    "    cur_sum = 0\n",
    "    for i in data:\n",
    "        if i - mid > 0:\n",
    "            cur_sum += (i - mid)\n",
    "    if cur_sum > target:\n",
    "        # return binary_search(target, mid, end, data)\n",
    "        return max(mid, binary_search(target, mid, end, data))\n",
    "        # <- 반드시 손님이 원하는 떡의 양을 맞추는게 아니라 \"손님이 가져갈 수 있도록 하는 최대한으로 잘라야하는 크기\"를 구하는 것이므로\n",
    "        # 현재까지 구한 값에서 그 다음 step을 실행 후 비교하여 더 큰 값을 리턴해야 한다.\n",
    "    elif cur_sum < target:\n",
    "        return binary_search(target, start, mid, data)\n",
    "    else:\n",
    "        return mid\n",
    "\n",
    "\n",
    "n, m = map(int, input().split())\n",
    "\n",
    "ddeok = list(map(int, input().split()))\n",
    "ddeok.sort()\n",
    "\n",
    "# print(binary_search(m, ddeok[0], ddeok[-1], ddeok))\n",
    "# 시작 지점을 배열의 0번째로 잡으면 틀릴텐데?\n",
    "# 만약 손님이 원하는 떡의 양이 많을 경우 어떻게 범위 잡을건데?\n",
    "\n",
    "print(binary_search(m, 0, ddeok[-1], ddeok))  # 이렇게 잡아야 정상!\n",
    "\n",
    "# 11:18"
   ]
  },
  {
   "cell_type": "markdown",
   "source": [
    "### 교재에 있는 모범 답안을 토대로 작성한 코드\n",
    "* 이진 탐색을 사용하겠다는 생각은 좋지만, 이진탐색의 구현을 반복문으로도 할 수 있다는것도 알아두기"
   ],
   "metadata": {
    "collapsed": false
   }
  },
  {
   "cell_type": "code",
   "execution_count": null,
   "outputs": [],
   "source": [
    "n, m = list(map(int, input().split()))\n",
    "data = list(map(int, input().split()))\n",
    "\n",
    "start = 0  # 시작지점을 배열의 첫번째 원소로 잡지 않아야한다! (손님이 원하는 떡의 양이 많을 수도 있으므로) --> 내가 틀림. 위에 가서 코드 수정.\n",
    "end = max(data)  # 내 코드에서는 배열을 정렬해서 가장 마지막 원소를 가져왔는데, 확실히 이게 빠를듯.\n",
    "\n",
    "result = 0\n",
    "while start <= end:\n",
    "    total = 0\n",
    "    mid = (start + end) // 2\n",
    "    for x in data:\n",
    "        if x > mid:\n",
    "            total += x - mid\n",
    "    if total < m:\n",
    "        end = mid - 1\n",
    "    else:\n",
    "        result = mid\n",
    "        start = mid + 1\n",
    "\n",
    "print(result)\n"
   ],
   "metadata": {
    "collapsed": false,
    "pycharm": {
     "name": "#%%\n"
    }
   }
  }
 ],
 "metadata": {
  "kernelspec": {
   "display_name": "Python 3",
   "language": "python",
   "name": "python3"
  },
  "language_info": {
   "codemirror_mode": {
    "name": "ipython",
    "version": 2
   },
   "file_extension": ".py",
   "mimetype": "text/x-python",
   "name": "python",
   "nbconvert_exporter": "python",
   "pygments_lexer": "ipython2",
   "version": "2.7.6"
  }
 },
 "nbformat": 4,
 "nbformat_minor": 0
}