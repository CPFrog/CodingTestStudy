{
 "cells": [
  {
   "cell_type": "markdown",
   "source": [
    "참고 교재: 이것이 취업을 위한 코딩 테스트다 with 파이썬 (나동빈)"
   ],
   "metadata": {
    "collapsed": false
   }
  },
  {
   "cell_type": "markdown",
   "source": [
    "## 실전문제 2. 숫자 카드 게임\n",
    "테스트케이스 1: 3 3 / 3 1 2 / 4 1 4 / 2 2 2 || 정답: 2\n",
    "테스트케이스 2: 2 4 / 7 3 1 8 / 3 3 3 4 || 정답: 3"
   ],
   "metadata": {
    "collapsed": false
   }
  },
  {
   "cell_type": "markdown",
   "metadata": {
    "collapsed": true,
    "pycharm": {
     "name": "#%% md\n"
    }
   },
   "source": [
    "### 내 방식으로 풀어본 코드"
   ]
  },
  {
   "cell_type": "code",
   "execution_count": 1,
   "outputs": [
    {
     "name": "stdout",
     "output_type": "stream",
     "text": [
      "2\n"
     ]
    }
   ],
   "source": [
    "n, m=map(int, input().split())\n",
    "\n",
    "\n",
    "ans=0\n",
    "for i in range(n):\n",
    "    line=list(map(int,input().split()))\n",
    "    line.sort()\n",
    "    if line[0]>ans:\n",
    "        ans=line[0]\n",
    "\n",
    "print(ans)"
   ],
   "metadata": {
    "collapsed": false,
    "pycharm": {
     "name": "#%%\n"
    }
   }
  },
  {
   "cell_type": "markdown",
   "source": [
    "### 교재에 있는 모범 답안을 토대로 작성한 코드\n",
    "* 교재에는 이중 반복문 구조를 이용해서도 푼 코드 있지만.. 그 코드는 뻔하니 생략"
   ],
   "metadata": {
    "collapsed": false
   }
  },
  {
   "cell_type": "code",
   "execution_count": 2,
   "outputs": [
    {
     "name": "stdout",
     "output_type": "stream",
     "text": [
      "2\n"
     ]
    }
   ],
   "source": [
    "n,m=map(int, input().split())\n",
    "\n",
    "ans=0\n",
    "\n",
    "# 각 줄을 입력받음\n",
    "for i in range(n):\n",
    "    data=list(map(int, input().split()))\n",
    "    # 현재 줄에서 가장 작은 숫자를 min 함수 이용해서 찾음\n",
    "    min_num=min(data)\n",
    "    # 이전 step에서까지 구한 최소 데이터보다 지금 데이터가 클 경우 덮어쓰기.\n",
    "    ans=max(ans, min_num)\n",
    "\n",
    "print(ans)"
   ],
   "metadata": {
    "collapsed": false,
    "pycharm": {
     "name": "#%%\n"
    }
   }
  },
  {
   "cell_type": "markdown",
   "source": [
    "#### 이 코드에서 핵심은 min 함수를 쓴다면 굳이 위에서처럼 sort() 함수 쓰는 뻘짓 안해도 된다는거!"
   ],
   "metadata": {
    "collapsed": false
   }
  },
  {
   "cell_type": "markdown",
   "source": [
    "#### 근데 min 함수 쓴거랑 이중 반복문 쓴거랑 sort() 쓴거랑 실행 시간 비교해보고싶긴 하다.."
   ],
   "metadata": {
    "collapsed": false,
    "pycharm": {
     "name": "#%% md\n"
    }
   }
  }
 ],
 "metadata": {
  "kernelspec": {
   "display_name": "Python 3",
   "language": "python",
   "name": "python3"
  },
  "language_info": {
   "codemirror_mode": {
    "name": "ipython",
    "version": 2
   },
   "file_extension": ".py",
   "mimetype": "text/x-python",
   "name": "python",
   "nbconvert_exporter": "python",
   "pygments_lexer": "ipython2",
   "version": "2.7.6"
  }
 },
 "nbformat": 4,
 "nbformat_minor": 0
}