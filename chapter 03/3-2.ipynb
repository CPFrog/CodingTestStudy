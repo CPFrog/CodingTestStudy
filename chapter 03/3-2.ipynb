{
 "cells": [
  {
   "cell_type": "markdown",
   "metadata": {
    "collapsed": true,
    "pycharm": {
     "name": "#%% md\n"
    }
   },
   "source": [
    "### 파이썬에서 입력 받는 방법\n",
    "* C++ 로 알고리즘 문제 풀다가 파이썬으로 풀려니까 이런거도 알아야하네.."
   ]
  },
  {
   "cell_type": "code",
   "execution_count": null,
   "outputs": [],
   "source": [
    "# n,m,k를 공백으로 구분하여 입력 받기\n",
    "n, m, k = map(int, input().split())\n",
    "# N개의 수를 공백으로 구분하여 입력 받기\n",
    "data = list(map(int, input().split()))"
   ],
   "metadata": {
    "collapsed": false,
    "pycharm": {
     "name": "#%%\n"
    }
   }
  },
  {
   "cell_type": "markdown",
   "source": [
    "입력 데이터: 5 8 3 / 2 4 5 4 6"
   ],
   "metadata": {
    "collapsed": false
   }
  },
  {
   "cell_type": "markdown",
   "source": [
    "### 내 방식대로 풀어본 코드"
   ],
   "metadata": {
    "collapsed": false
   }
  },
  {
   "cell_type": "code",
   "execution_count": 1,
   "outputs": [
    {
     "name": "stdout",
     "output_type": "stream",
     "text": [
      "46\n"
     ]
    }
   ],
   "source": [
    "n, m, k = map(int, input().split())  # n,m,k 입력받음\n",
    "data = list(map(int, input().split()))  # 주어진 배열을 입력받아 저장\n",
    "\n",
    "ans = 0\n",
    "cnt = 0\n",
    "pos = -1\n",
    "\n",
    "data.sort()\n",
    "\n",
    "while m > 0:\n",
    "    ans += data[pos]\n",
    "    m -= 1\n",
    "    cnt += 1\n",
    "    if cnt >= k:\n",
    "        pos = -2\n",
    "        cnt = 0\n",
    "    elif pos != -1:\n",
    "        pos = -1\n",
    "        cnt = 0\n",
    "\n",
    "print(ans)"
   ],
   "metadata": {
    "collapsed": false,
    "pycharm": {
     "name": "#%%\n"
    }
   }
  },
  {
   "cell_type": "markdown",
   "source": [
    "이 방법이 틀린건 아니지만, 반복문의 특성상 데이터 커지면 시간복잡도 증가... 다른 방법 없을까?\n",
    "\n",
    "수열이 반복되는 것에 주목!"
   ],
   "metadata": {
    "collapsed": false
   }
  },
  {
   "cell_type": "markdown",
   "source": [
    "### 교재에 있는 모범 답안을 토대로 작성한 코드\n",
    "* 위에서 소개한 개념을 적극적으로 활용"
   ],
   "metadata": {
    "collapsed": false
   }
  },
  {
   "cell_type": "code",
   "execution_count": 2,
   "outputs": [
    {
     "name": "stdout",
     "output_type": "stream",
     "text": [
      "46\n"
     ]
    }
   ],
   "source": [
    "n, m, k = map(int, input().split())  # n,m,k 입력받음\n",
    "data = list(map(int, input().split()))  # 주어진 배열을 입력받아 저장\n",
    "\n",
    "data.sort()\n",
    "first = data[-1] # 가장 큰 수\n",
    "second = data[-2] # 두 번째로 큰 수\n",
    "\n",
    "# 가장 큰 수 k번, 두 번째 큰 수 1번 해서 k+1의 길이를 갖는 배열이 반복됨.\n",
    "cnt = m // (k + 1) * k\n",
    "cnt += m % (k + 1)\n",
    "# cnt : 가장 큰 원소가 길이 m의 배열 안에서 몇 번이나 더해지는지.\n",
    "\n",
    "ans = 0\n",
    "ans += cnt * first  # 가장 큰 원소 * 더해진 횟수(=cnt)\n",
    "ans += (m - cnt) * second  # 두번째 큰 원소 * 더해진 횟수(=m-cnt)\n",
    "\n",
    "print(ans)"
   ],
   "metadata": {
    "collapsed": false,
    "pycharm": {
     "name": "#%%\n"
    }
   }
  },
  {
   "cell_type": "code",
   "execution_count": null,
   "outputs": [],
   "source": [],
   "metadata": {
    "collapsed": false,
    "pycharm": {
     "name": "#%%\n"
    }
   }
  }
 ],
 "metadata": {
  "kernelspec": {
   "display_name": "Python 3",
   "language": "python",
   "name": "python3"
  },
  "language_info": {
   "codemirror_mode": {
    "name": "ipython",
    "version": 2
   },
   "file_extension": ".py",
   "mimetype": "text/x-python",
   "name": "python",
   "nbconvert_exporter": "python",
   "pygments_lexer": "ipython2",
   "version": "2.7.6"
  }
 },
 "nbformat": 4,
 "nbformat_minor": 0
}