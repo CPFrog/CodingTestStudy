{
 "cells": [
  {
   "cell_type": "markdown",
   "metadata": {
    "collapsed": true,
    "pycharm": {
     "name": "#%% md\n"
    }
   },
   "source": [
    "## 문제 3-4 1이 될 때까지"
   ]
  },
  {
   "cell_type": "markdown",
   "source": [
    "### 내 방식대로 풀어본 코드"
   ],
   "metadata": {
    "collapsed": false
   }
  },
  {
   "cell_type": "code",
   "execution_count": 2,
   "outputs": [
    {
     "name": "stdout",
     "output_type": "stream",
     "text": [
      "6\n"
     ]
    }
   ],
   "source": [
    "n, k = map(int, input().split())\n",
    "\n",
    "cnt = 0\n",
    "while n > 1:\n",
    "    if n % k == 0:\n",
    "        n //= k\n",
    "    else:\n",
    "        n -= 1\n",
    "    cnt += 1\n",
    "\n",
    "print(cnt)"
   ],
   "metadata": {
    "collapsed": false,
    "pycharm": {
     "name": "#%%\n"
    }
   }
  },
  {
   "cell_type": "markdown",
   "source": [
    "### 교재에 있는 모범 답안을 토대로 작성한 코드\n",
    "* 내가 푼 방식대로 하나하나 다 더하는 방식도 있겠지만, <br/>더 빨리 계산한다면 아예 가장 가까운 k의 배수를 구하고 그 차만큼을 1씩 뺀걸로 치는게 빠름"
   ],
   "metadata": {
    "collapsed": false
   }
  },
  {
   "cell_type": "code",
   "execution_count": null,
   "outputs": [],
   "source": [
    "n, k = map(int, input().split())\n",
    "\n",
    "ans = 0\n",
    "\n",
    "while True:\n",
    "    # 현재 값 n보다 작으면서 가장 큰 k의 배수 구하기.\n",
    "    multiplier = (n // k) * k\n",
    "    ans += (n - multiplier)  # n과 가장 큰 배수 k의 차 만큼 1씩 뺀걸로 처리.\n",
    "    n = multiplier  # 가장 큰 k의 배수 값으로 n을 업데이트\n",
    "    # n이 k보다 작을 때 반복문 탈출\n",
    "    if n < k: break\n",
    "\n",
    "    #k로 나눔\n",
    "    ans += 1\n",
    "    n //= k\n",
    "\n",
    "# 마지막 남은 수 n에 대해 1씩 빼기\n",
    "ans += (n - 1)\n",
    "print(ans)"
   ],
   "metadata": {
    "collapsed": false,
    "pycharm": {
     "name": "#%%\n"
    }
   }
  }
 ],
 "metadata": {
  "kernelspec": {
   "display_name": "Python 3",
   "language": "python",
   "name": "python3"
  },
  "language_info": {
   "codemirror_mode": {
    "name": "ipython",
    "version": 2
   },
   "file_extension": ".py",
   "mimetype": "text/x-python",
   "name": "python",
   "nbconvert_exporter": "python",
   "pygments_lexer": "ipython2",
   "version": "2.7.6"
  }
 },
 "nbformat": 4,
 "nbformat_minor": 0
}