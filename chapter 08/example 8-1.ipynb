{
 "cells": [
  {
   "cell_type": "markdown",
   "source": [
    "## 재귀 함수"
   ],
   "metadata": {
    "collapsed": false
   }
  },
  {
   "cell_type": "code",
   "execution_count": 1,
   "metadata": {
    "collapsed": true
   },
   "outputs": [
    {
     "name": "stdout",
     "output_type": "stream",
     "text": [
      "3\n"
     ]
    }
   ],
   "source": [
    "def fibo(x):\n",
    "    if x in [1,2]:\n",
    "        return 1\n",
    "    return fibo(x-1)+fibo(x-2)\n",
    "print(fibo(4))"
   ]
  },
  {
   "cell_type": "markdown",
   "source": [
    "#### 위와 같은 방식으로 코드를 짤 때의 문제점\n",
    "- 동일한 함수가 반복적으로 호출됨.\n",
    "- fibo(6)에서 fibo(3)을 3번이나 호출하게 되고, 이는 굉장히 비효율적인 코드. (계산에 중복이 발생하기 때문)\n",
    "\n",
    "#### 해결 방법?\n",
    "-> 다이나믹 프로그래밍(DP, Dynamic Programming)을 사용!"
   ],
   "metadata": {
    "collapsed": false
   }
  },
  {
   "cell_type": "markdown",
   "source": [
    "#### DP를 사용하기 위한 조건\n",
    "1. 큰 문제를 작은 문제로 나눌 수 있어야 한다.\n",
    "2. 작은 문제에서 구한 정답은 그것을 포함하는 큰 문제에서도 동일하게 구할 수 있다."
   ],
   "metadata": {
    "collapsed": false
   }
  },
  {
   "cell_type": "markdown",
   "source": [
    "## 재귀 함수에 DP를 활용한 방식 (Top-down)"
   ],
   "metadata": {
    "collapsed": false
   }
  },
  {
   "cell_type": "code",
   "execution_count": 3,
   "outputs": [
    {
     "name": "stdout",
     "output_type": "stream",
     "text": [
      "218922995834555169026\n"
     ]
    }
   ],
   "source": [
    "d=[0]*100\n",
    "\n",
    "def fibo(x):\n",
    "    if x in [1,2]:\n",
    "        return 1\n",
    "    if d[x]!=0:\n",
    "        return d[x]\n",
    "    d[x]=fibo(x-1)+fibo(x-2) # 큰 문제에서 작은 문제로 내려가고, 작은 문제의 값을 반환해 다시 큰 문제로 올라가서 최종적으로 답을 구하는 top-down 방식.\n",
    "    return d[x]\n",
    "\n",
    "print(fibo(99))"
   ],
   "metadata": {
    "collapsed": false,
    "pycharm": {
     "name": "#%%\n"
    }
   }
  },
  {
   "cell_type": "markdown",
   "source": [
    "## 반복문을 사용해 구하는 방식 (Bottom-up)"
   ],
   "metadata": {
    "collapsed": false
   }
  },
  {
   "cell_type": "code",
   "execution_count": 8,
   "outputs": [
    {
     "name": "stdout",
     "output_type": "stream",
     "text": [
      "218922995834555169026\n"
     ]
    }
   ],
   "source": [
    "dp=[0]*100\n",
    "\n",
    "dp[1]=1\n",
    "dp[2]=1\n",
    "n=99\n",
    "\n",
    "# 3번째 피보나치 수부터 n(=99)까지 올라가며 구하는 방식 (Bottom-up)\n",
    "for i in range(3,n+1):\n",
    "    dp[i]=dp[i-1]+dp[i-2]\n",
    "\n",
    "print(dp[n])"
   ],
   "metadata": {
    "collapsed": false,
    "pycharm": {
     "name": "#%%\n"
    }
   }
  },
  {
   "cell_type": "code",
   "execution_count": null,
   "outputs": [],
   "source": [],
   "metadata": {
    "collapsed": false,
    "pycharm": {
     "name": "#%%\n"
    }
   }
  }
 ],
 "metadata": {
  "kernelspec": {
   "display_name": "Python 3",
   "language": "python",
   "name": "python3"
  },
  "language_info": {
   "codemirror_mode": {
    "name": "ipython",
    "version": 2
   },
   "file_extension": ".py",
   "mimetype": "text/x-python",
   "name": "python",
   "nbconvert_exporter": "python",
   "pygments_lexer": "ipython2",
   "version": "2.7.6"
  }
 },
 "nbformat": 4,
 "nbformat_minor": 0
}