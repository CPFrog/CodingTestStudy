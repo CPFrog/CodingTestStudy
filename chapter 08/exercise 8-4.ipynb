{
 "cells": [
  {
   "cell_type": "markdown",
   "source": [
    "## 실전문제 3. 바닥 공사 `(제한시간: 20분)`\n",
    "* 테스트케이스: 3 || 정답: 5"
   ],
   "metadata": {
    "collapsed": false
   }
  },
  {
   "cell_type": "code",
   "execution_count": 3,
   "metadata": {
    "collapsed": true
   },
   "outputs": [
    {
     "name": "stdout",
     "output_type": "stream",
     "text": [
      "5\n"
     ]
    }
   ],
   "source": [
    "# 17:52\n",
    "\n",
    "n = int(input())\n",
    "\n",
    "dp=[0]*(n+1)\n",
    "dp[0]=1\n",
    "dp[1]=1\n",
    "if n>1:\n",
    "    for i in range(2,n+1):\n",
    "        dp[i]=(dp[i-1]+dp[i-2]*2)%796796\n",
    "\n",
    "print(dp[n])"
   ]
  },
  {
   "cell_type": "markdown",
   "source": [
    "### 교재에 있는 모범 답안을 토대로 작성한 코드\n",
    "\n",
    "교재의 방식과 배열의 0번째부터 규칙을 적용하는지, 1번째부터 적용하는지만 다를 뿐 거의 일치함."
   ],
   "metadata": {
    "collapsed": false,
    "pycharm": {
     "name": "#%% md\n"
    }
   }
  },
  {
   "cell_type": "code",
   "execution_count": null,
   "outputs": [],
   "source": [],
   "metadata": {
    "collapsed": false,
    "pycharm": {
     "name": "#%%\n"
    }
   }
  }
 ],
 "metadata": {
  "kernelspec": {
   "display_name": "Python 3",
   "language": "python",
   "name": "python3"
  },
  "language_info": {
   "codemirror_mode": {
    "name": "ipython",
    "version": 2
   },
   "file_extension": ".py",
   "mimetype": "text/x-python",
   "name": "python",
   "nbconvert_exporter": "python",
   "pygments_lexer": "ipython2",
   "version": "2.7.6"
  }
 },
 "nbformat": 4,
 "nbformat_minor": 0
}