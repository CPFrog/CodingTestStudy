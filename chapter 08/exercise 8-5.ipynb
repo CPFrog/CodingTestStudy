{
 "cells": [
  {
   "cell_type": "markdown",
   "source": [
    "## 실전문제 4. 효율적인 화폐 구성 `(제한시간: 30분)`\n",
    "* 테스트케이스 1: 2 15 / 2 / 3 || 정답: 5\n",
    "* 테스트케이스 2: 3 4 / 3 / 5 / 7 || 정답: -1"
   ],
   "metadata": {
    "collapsed": false
   }
  },
  {
   "cell_type": "code",
   "execution_count": 8,
   "metadata": {
    "collapsed": true
   },
   "outputs": [
    {
     "name": "stdout",
     "output_type": "stream",
     "text": [
      "-1\n"
     ]
    }
   ],
   "source": [
    "# 18:01\n",
    "INF=10001\n",
    "n, m = map(int, input().split())\n",
    "dp = [INF]*INF\n",
    "coins = []\n",
    "for _ in range(n):\n",
    "    amount = int(input())\n",
    "    dp[amount] = 1\n",
    "    coins.append(amount)\n",
    "\n",
    "\n",
    "def foo(change):\n",
    "    if change < 1:\n",
    "        return -1\n",
    "    elif dp[change] != INF:\n",
    "        return dp[change]\n",
    "    for i in coins:\n",
    "        tmp = foo(change - i)\n",
    "        if tmp == -1: continue\n",
    "        dp[change] = min(dp[change], tmp + 1)\n",
    "    if dp[change] == INF:\n",
    "        dp[change] = -1\n",
    "    return dp[change]\n",
    "\n",
    "\n",
    "print(foo(m))\n",
    "# 18:17"
   ]
  },
  {
   "cell_type": "markdown",
   "source": [
    "### 교재에 있는 모범 답안을 토대로 작성한 코드\n",
    "\n",
    "교재의 방식은 bottom-up, 내 방식은 top-down.\n",
    "이러한 방식의 문제에서는 재귀 스택 문제 때문에 bottom-up이 메모리 측면에서 더 좋을지도.."
   ],
   "metadata": {
    "collapsed": false,
    "pycharm": {
     "name": "#%% md\n"
    }
   }
  },
  {
   "cell_type": "code",
   "execution_count": null,
   "outputs": [],
   "source": [],
   "metadata": {
    "collapsed": false,
    "pycharm": {
     "name": "#%%\n"
    }
   }
  }
 ],
 "metadata": {
  "kernelspec": {
   "display_name": "Python 3",
   "language": "python",
   "name": "python3"
  },
  "language_info": {
   "codemirror_mode": {
    "name": "ipython",
    "version": 2
   },
   "file_extension": ".py",
   "mimetype": "text/x-python",
   "name": "python",
   "nbconvert_exporter": "python",
   "pygments_lexer": "ipython2",
   "version": "2.7.6"
  }
 },
 "nbformat": 4,
 "nbformat_minor": 0
}