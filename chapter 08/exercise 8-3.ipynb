{
 "cells": [
  {
   "cell_type": "markdown",
   "source": [
    "## 실전문제 2. 개미 전사 `(제한시간: 30분)`\n",
    "* 테스트케이스: 4 / 1 3 1 5 || 정답: 8"
   ],
   "metadata": {
    "collapsed": false
   }
  },
  {
   "cell_type": "code",
   "execution_count": 2,
   "metadata": {
    "collapsed": true
   },
   "outputs": [
    {
     "name": "stdout",
     "output_type": "stream",
     "text": [
      "8\n"
     ]
    }
   ],
   "source": [
    "# 16:21\n",
    "\n",
    "n = int(input())\n",
    "garage = list(map(int, input().split()))\n",
    "ans = [0] * n\n",
    "ans[0] = garage[0]\n",
    "ans[1] = max(garage[0], garage[1])\n",
    "\n",
    "for i in range(2, n):\n",
    "    ans[i]=max(garage[i]+ans[i-2], ans[i-1])\n",
    "\n",
    "print(ans[n-1])\n",
    "\n",
    "# 16:28"
   ]
  },
  {
   "cell_type": "markdown",
   "source": [
    "### 교재에 있는 모범 답안을 토대로 작성한 코드\n",
    "\n",
    "교재의 방식과 변수명만 다를 뿐 거의 일치함."
   ],
   "metadata": {
    "collapsed": false,
    "pycharm": {
     "name": "#%% md\n"
    }
   }
  },
  {
   "cell_type": "code",
   "execution_count": null,
   "outputs": [],
   "source": [],
   "metadata": {
    "collapsed": false,
    "pycharm": {
     "name": "#%%\n"
    }
   }
  }
 ],
 "metadata": {
  "kernelspec": {
   "display_name": "Python 3",
   "language": "python",
   "name": "python3"
  },
  "language_info": {
   "codemirror_mode": {
    "name": "ipython",
    "version": 2
   },
   "file_extension": ".py",
   "mimetype": "text/x-python",
   "name": "python",
   "nbconvert_exporter": "python",
   "pygments_lexer": "ipython2",
   "version": "2.7.6"
  }
 },
 "nbformat": 4,
 "nbformat_minor": 0
}