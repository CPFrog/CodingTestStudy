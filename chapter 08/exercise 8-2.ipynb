{
 "cells": [
  {
   "cell_type": "markdown",
   "source": [
    "## 실전문제 1. 1로 만들기\n",
    "* 테스트케이스: 26 || 정답: 3"
   ],
   "metadata": {
    "collapsed": false
   }
  },
  {
   "cell_type": "code",
   "execution_count": 3,
   "metadata": {
    "collapsed": true
   },
   "outputs": [
    {
     "name": "stdout",
     "output_type": "stream",
     "text": [
      "3\n"
     ]
    }
   ],
   "source": [
    "# 16:02\n",
    "\n",
    "n = int(input())\n",
    "dp = [n] * (n + 1)\n",
    "dp[0] = 0\n",
    "dp[1] = 0\n",
    "\n",
    "\n",
    "def foo(num):\n",
    "    global n\n",
    "    if dp[num] == n:\n",
    "        if num % 5 == 0:\n",
    "            dp[num] = 1 + foo(num // 5)\n",
    "        if num % 3 == 0:\n",
    "            tmp = 1 + foo(num // 3)\n",
    "            if dp[num] > tmp:\n",
    "                dp[num] = tmp\n",
    "        if num % 2 == 0:\n",
    "            tmp = 1 + foo(num // 2)\n",
    "            if dp[num] > tmp:\n",
    "                dp[num] = tmp\n",
    "        if dp[num] > 1 + foo(num - 1):\n",
    "            dp[num] = 1 + dp[num - 1]\n",
    "    return dp[num]\n",
    "\n",
    "\n",
    "print(foo(n))"
   ]
  },
  {
   "cell_type": "markdown",
   "source": [
    "### 교재에 있는 모범 답안을 토대로 작성한 코드\n",
    "\n",
    "교재의 방식은 일반적인 bottom-up 방식이므로 생략"
   ],
   "metadata": {
    "collapsed": false,
    "pycharm": {
     "name": "#%% md\n"
    }
   }
  }
 ],
 "metadata": {
  "kernelspec": {
   "display_name": "Python 3",
   "language": "python",
   "name": "python3"
  },
  "language_info": {
   "codemirror_mode": {
    "name": "ipython",
    "version": 2
   },
   "file_extension": ".py",
   "mimetype": "text/x-python",
   "name": "python",
   "nbconvert_exporter": "python",
   "pygments_lexer": "ipython2",
   "version": "2.7.6"
  }
 },
 "nbformat": 4,
 "nbformat_minor": 0
}