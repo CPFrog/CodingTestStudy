{
 "cells": [
  {
   "cell_type": "markdown",
   "source": [
    "## 실전문제 1. 왕실의 나이트\n",
    "* 테스트케이스 1: a1 || 정답: 2\n",
    "* 테스트케이스 2: c2 || 정답: 8"
   ],
   "metadata": {
    "collapsed": false,
    "pycharm": {
     "name": "#%% md\n"
    }
   },
   "outputs": []
  },
  {
   "cell_type": "markdown",
   "source": [
    "### 내 방식으로 풀어본 코드"
   ],
   "metadata": {
    "collapsed": false
   }
  },
  {
   "cell_type": "code",
   "execution_count": 10,
   "outputs": [
    {
     "name": "stdout",
     "output_type": "stream",
     "text": [
      "입력값: e5\n",
      "8\n"
     ]
    }
   ],
   "source": [
    "cur = input()\n",
    "x = int(cur[1]) - 1\n",
    "#ascii 로 계산하면 빠를텐데...\n",
    "if cur[0] == 'a':\n",
    "    y = 0\n",
    "elif cur[0] == 'b':\n",
    "    y = 1\n",
    "elif cur[0] == 'c':\n",
    "    y = 2\n",
    "elif cur[0] == 'd':\n",
    "    y = 3\n",
    "elif cur[0] == 'e':\n",
    "    y = 4\n",
    "elif cur[0] == 'f':\n",
    "    y = 5\n",
    "elif cur[0] == 'g':\n",
    "    y = 6\n",
    "else:\n",
    "    y = 7\n",
    "\n",
    "dx = [1, 1, -1, -1, 2, 2, -2, -2]\n",
    "dy = [2, -2, 2, -2, 1, -1, 1, -1]\n",
    "\n",
    "cnt = 0\n",
    "for i in range(len(dx)):\n",
    "    nx = x + dx[i]\n",
    "    ny = y + dy[i]\n",
    "\n",
    "    if nx < 0 or nx >= 8 or ny < 0 or ny >= 8:\n",
    "        continue\n",
    "        cnt += 1\n",
    "\n",
    "print('입력값:', cur)\n",
    "print(cnt)"
   ],
   "metadata": {
    "collapsed": false,
    "pycharm": {
     "name": "#%%\n"
    }
   }
  },
  {
   "cell_type": "markdown",
   "source": [
    "### 교재에 있는 모범 답안을 토대로 작성한 코드\n",
    "* ord(): 이거 쓰면 ascii 코드 추출 가능한듯!\n",
    "* 페어를 원소로 가지는 리스트 step를 선언한건 좋은데 활용 방법이 썩 맘에 안들어서 내 방식대로 짜봄"
   ],
   "metadata": {
    "collapsed": false
   }
  },
  {
   "cell_type": "code",
   "execution_count": 17,
   "outputs": [
    {
     "name": "stdout",
     "output_type": "stream",
     "text": [
      "6\n"
     ]
    }
   ],
   "source": [
    "pos = input()\n",
    "row = int(pos[1])\n",
    "col = int(ord(pos[0])) - int(ord('a')) + 1\n",
    "\n",
    "movement = [(1, 2), (1, -2), (-1, 2), (-1, -2), (2, 1), (2, -1), (-2, 1), (-2, -1)]\n",
    "\n",
    "cnt = 0\n",
    "for dr, dc in movement:\n",
    "    nr, nc = (row + dr, col + dc)\n",
    "    if nr < 1 or nr > 8 or nc < 1 or nc > 8:\n",
    "        continue\n",
    "    cnt += 1\n",
    "\n",
    "print(cnt)"
   ],
   "metadata": {
    "collapsed": false,
    "pycharm": {
     "name": "#%%\n"
    }
   }
  },
  {
   "cell_type": "code",
   "execution_count": null,
   "outputs": [],
   "source": [],
   "metadata": {
    "collapsed": false,
    "pycharm": {
     "name": "#%%\n"
    }
   }
  }
 ],
 "metadata": {
  "kernelspec": {
   "display_name": "Python 3",
   "language": "python",
   "name": "python3"
  },
  "language_info": {
   "codemirror_mode": {
    "name": "ipython",
    "version": 2
   },
   "file_extension": ".py",
   "mimetype": "text/x-python",
   "name": "python",
   "nbconvert_exporter": "python",
   "pygments_lexer": "ipython2",
   "version": "2.7.6"
  }
 },
 "nbformat": 4,
 "nbformat_minor": 0
}