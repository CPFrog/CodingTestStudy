{
 "cells": [
  {
   "cell_type": "markdown",
   "source": [
    "## 실전문제 2. 게임 개발\n",
    "* 테스트케이스: 4 4 / 1 1 0 / 1 1 1 1 / 1 0 0 1 / 1 1 0 1 / 1 1 1 1 || 정답: 3"
   ],
   "metadata": {
    "collapsed": false,
    "pycharm": {
     "name": "#%% md\n"
    }
   },
   "outputs": []
  },
  {
   "cell_type": "markdown",
   "source": [
    "### 내 방식으로 풀어본 코드"
   ],
   "metadata": {
    "collapsed": false
   }
  },
  {
   "cell_type": "code",
   "execution_count": 17,
   "outputs": [
    {
     "name": "stdout",
     "output_type": "stream",
     "text": [
      "3\n"
     ]
    }
   ],
   "source": [
    "# 풀이 시작 2:31 --> 10분 시간 초과\n",
    "row, col = input().split()\n",
    "row = int(row)\n",
    "col = int(col)\n",
    "initial = list(map(int, input().split()))\n",
    "\n",
    "x = initial[0]\n",
    "y = initial[1]\n",
    "bound = initial[2]\n",
    "\n",
    "movement = [(1, 0), (-1, 0), (0, -1), (0, 1)]\n",
    "\n",
    "field = []\n",
    "for i in range(row):\n",
    "    field.append(list(map(int, input().split())))\n",
    "\n",
    "cnt = 1\n",
    "#field[x][y]=2 --> 이 코드 활성화하면 코드가 동작 X. -- 뒤로 가는 코드.. 시선 방향 고려 안하고 단순히 절대좌표에서의 남쪽으로 뺀거같은데?\n",
    "while True:\n",
    "    dx, dy = movement[(bound + 3) % 4]\n",
    "    nx, ny = x + dx, y + dy\n",
    "    if field[nx][ny] == 0:\n",
    "        cnt += 1\n",
    "        # print(nx, ny)\n",
    "        field[nx][ny] = 2\n",
    "        x, y = nx, ny\n",
    "        bound = (bound + 3) % 4\n",
    "    else:\n",
    "        has_left = 0\n",
    "        for i in movement:\n",
    "            dx, dy = i[0], i[1]\n",
    "            tx, ty = (x, y)\n",
    "            if field[tx][ty] == 0:\n",
    "                has_left = 1\n",
    "                break\n",
    "        if has_left:\n",
    "            bound = (bound + 3) % 4\n",
    "        else:\n",
    "            ny += 1\n",
    "            if field[nx][ny] == 1:\n",
    "                break\n",
    "            else:\n",
    "                x, y = nx, ny\n",
    "\n",
    "print(cnt)"
   ],
   "metadata": {
    "collapsed": false,
    "pycharm": {
     "name": "#%%\n"
    }
   }
  },
  {
   "cell_type": "markdown",
   "source": [
    "시간도 꽤 오래걸렸고 머리속에서 어떻게 짜야할지 정리가 안됐다..\n",
    "심지어 시간을 10분이나 초과했는데도 코드가 제대로 동작하지 않는거 같았음.\n",
    "\n",
    "헤맨 이유:\n",
    "1. 입력값을 어떻게 받아야하는지 처리 방법을 몰랐음 (파이썬 언어에 대한 숙련도 부족)\n",
    "2. 배열의 인덱스 벗어났을때 어떻게 처리해야하지 는 식의 쓸데없는 고민 했음 (외곽이 바다로 둘러싸여 있다는 명세만 잘 읽었다면..)"
   ],
   "metadata": {
    "collapsed": false
   }
  },
  {
   "cell_type": "markdown",
   "source": [
    "### 교재에 있는 모범 답안을 토대로 작성한 코드\n",
    "* 교재에서는 방문했는지 여부를 체크하는 배열을 사용했지만, 난 굳이 그럴 필요 없을거같아서 제외한 코드 작성해봄.\n",
    "* chk = [[0] * m for _ in range(n)]  --> 각 위치를 방문했는지 여부를 체크하는 맵 생성 코드. 다른 코드 작성시 참고할 수 있을거 같아 가져옴"
   ],
   "metadata": {
    "collapsed": false
   }
  },
  {
   "cell_type": "code",
   "execution_count": 19,
   "outputs": [
    {
     "name": "stdout",
     "output_type": "stream",
     "text": [
      "3\n"
     ]
    }
   ],
   "source": [
    "n, m = map(int, input().split())  # 필드의 크기 정보\n",
    "\n",
    "x, y, direction = map(int, input().split())  # 최초 x,y좌표, 방향 정보\n",
    "\n",
    "field = []\n",
    "for i in range(n):\n",
    "    field.append(list(map(int, input().split())))\n",
    "\n",
    "field[x][y] = 2 # 방문한 지점을 2로 놓아 방문 여부 확인.\n",
    "# 문제 명세에서 북:0, 동:1, 남:2, 서:3 이라 했으므로 그에 맞게 방향 정의\n",
    "dx = [-1, 0, 1, 0]\n",
    "dy = [0, 1, 0, -1]\n",
    "\n",
    "\n",
    "# 왼쪽으로 회전할 때 사용하는 함수 정의\n",
    "def left_turn():\n",
    "    global direction  # direction은 함수 밖에서 선언되어 있기 때문에 불러와서 쓰기 위해 사용\n",
    "    direction -= 1\n",
    "    if direction == -1:  # 여기서는 내가 한 거처럼 나머지 연산 사용하지 않고 1씩 뺀것이 인상깊음.\n",
    "        # 그리고 사실, 나눗셈이나 나머지 연산은 되도록 안쓰는게 좋다고 배우기도 했음 (계산의 시간복잡도 측면에서.)\n",
    "        direction = 3\n",
    "\n",
    "\n",
    "# 시뮬레이션 시작\n",
    "cnt = 1\n",
    "turn_count = 0  # 모든 방향에서 아직 방문 안한 지점 있는지 확인할 때 몇번이나 회전했는지(어느 방향을 확인하고있는지) 기록하는 변수\n",
    "while True:\n",
    "    # 왼쪽 방향 검사\n",
    "    left_turn()\n",
    "    nx = x + dx[direction]\n",
    "    ny = y + dy[direction]\n",
    "\n",
    "    # 왼쪽으로 회전 후, 정면(즉, 최초 방향에서 왼쪽)에 방문하지 않은 지점 있는 경우 이동\n",
    "    if field[nx][ny] == 0:\n",
    "        field[nx][ny] = 2\n",
    "        x = nx\n",
    "        y = ny\n",
    "        cnt += 1\n",
    "        turn_count = 0\n",
    "        continue\n",
    "    else:\n",
    "        turn_count += 1\n",
    "    if turn_count >= 4:\n",
    "        nx = x - dx[direction]\n",
    "        ny = y - dy[direction]\n",
    "        if field[nx][ny] == 0:\n",
    "            x = nx\n",
    "            y = ny\n",
    "        # 만약 뒤쪽이 바다인 경우\n",
    "        else:\n",
    "            break\n",
    "        turn_time = 0\n",
    "\n",
    "print(cnt)"
   ],
   "metadata": {
    "collapsed": false,
    "pycharm": {
     "name": "#%%\n"
    }
   }
  },
  {
   "cell_type": "code",
   "execution_count": null,
   "outputs": [],
   "source": [],
   "metadata": {
    "collapsed": false,
    "pycharm": {
     "name": "#%%\n"
    }
   }
  }
 ],
 "metadata": {
  "kernelspec": {
   "display_name": "Python 3",
   "language": "python",
   "name": "python3"
  },
  "language_info": {
   "codemirror_mode": {
    "name": "ipython",
    "version": 2
   },
   "file_extension": ".py",
   "mimetype": "text/x-python",
   "name": "python",
   "nbconvert_exporter": "python",
   "pygments_lexer": "ipython2",
   "version": "2.7.6"
  }
 },
 "nbformat": 4,
 "nbformat_minor": 0
}