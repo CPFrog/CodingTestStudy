{
 "cells": [
  {
   "cell_type": "markdown",
   "source": [
    "## 예제 4-2. 시각\n",
    "* 테스트케이스: 5 || 정답: 11475"
   ],
   "metadata": {
    "collapsed": false
   }
  },
  {
   "cell_type": "markdown",
   "source": [
    "### 내 방식으로 풀어본 코드"
   ],
   "metadata": {
    "collapsed": false
   }
  },
  {
   "cell_type": "code",
   "execution_count": 11,
   "metadata": {
    "collapsed": true
   },
   "outputs": [
    {
     "name": "stdout",
     "output_type": "stream",
     "text": [
      "11475\n"
     ]
    }
   ],
   "source": [
    "# 풀이 시작: 1:11\n",
    "# 3시, 13시, 23시는 매 시간에 3이 들어감 -> 60*60*3\n",
    "# 그 외의 시간\n",
    "# 초: 3초, 13초, 23초, 30~39초, 43초, 53초 --> 15개의 초\n",
    "# 분: 3분, 13분, 23분, 30분~39분, 43분, 53분 --> 15개의 분, 60초동안\n",
    "\n",
    "n=int(input('n시 59분 59초까지'))\n",
    "hour3=60*60\n",
    "normal=15*60+45*15\n",
    "\n",
    "ans=0\n",
    "for i in range(n+1):\n",
    "    if i in [3,13,23]:\n",
    "        ans+=hour3\n",
    "    else:\n",
    "        ans+=normal\n",
    "\n",
    "print(ans)"
   ]
  },
  {
   "cell_type": "markdown",
   "source": [
    "### 교재에 있는 모범 답안을 토대로 작성한 코드\n",
    "* 내가 작성한 코드는 각 시간대별로 몇 초가 포함되는지 머릿속으로 계산해서 푼 방식이고\n",
    "교재에 나온 방식은 3중 for문을 이용해 각 초별로 str() 변환 및 문자열 이어붙이기를 수행한 후\n",
    "문자열 연산(3이 포함되어있는지 여부의 판단)을 통해 갯수를 샜음."
   ],
   "metadata": {
    "collapsed": false
   }
  },
  {
   "cell_type": "code",
   "execution_count": 10,
   "outputs": [
    {
     "name": "stdout",
     "output_type": "stream",
     "text": [
      "11475\n"
     ]
    }
   ],
   "source": [
    "# h를 입력받음\n",
    "h=int(input())\n",
    "\n",
    "count=0\n",
    "contains_3_in_hour=60*60\n",
    "normal_hour=0\n",
    "\n",
    "for min in range(60):\n",
    "    for sec in range(60):\n",
    "        if '3' in str(min)+str(sec):\n",
    "            normal_hour+=1\n",
    "\n",
    "for i in range(h+1):\n",
    "    if '3' in str(i):\n",
    "        count+=contains_3_in_hour\n",
    "    else:\n",
    "        count+=normal_hour\n",
    "\n",
    "print(count)"
   ],
   "metadata": {
    "collapsed": false,
    "pycharm": {
     "name": "#%%\n"
    }
   }
  },
  {
   "cell_type": "code",
   "execution_count": null,
   "outputs": [],
   "source": [],
   "metadata": {
    "collapsed": false,
    "pycharm": {
     "name": "#%%\n"
    }
   }
  }
 ],
 "metadata": {
  "kernelspec": {
   "display_name": "Python 3",
   "language": "python",
   "name": "python3"
  },
  "language_info": {
   "codemirror_mode": {
    "name": "ipython",
    "version": 2
   },
   "file_extension": ".py",
   "mimetype": "text/x-python",
   "name": "python",
   "nbconvert_exporter": "python",
   "pygments_lexer": "ipython2",
   "version": "2.7.6"
  }
 },
 "nbformat": 4,
 "nbformat_minor": 0
}