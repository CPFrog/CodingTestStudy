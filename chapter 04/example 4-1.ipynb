{
 "cells": [
  {
   "cell_type": "markdown",
   "source": [
    "## 예제 4-1. 상하좌우\n",
    "* 테스트케이스: 5 / R R R U D D || 정답: 3 4"
   ],
   "metadata": {
    "collapsed": false
   }
  },
  {
   "cell_type": "markdown",
   "source": [
    "### 내 방식으로 풀어본 코드"
   ],
   "metadata": {
    "collapsed": false
   }
  },
  {
   "cell_type": "code",
   "execution_count": 16,
   "metadata": {
    "collapsed": true
   },
   "outputs": [
    {
     "name": "stdout",
     "output_type": "stream",
     "text": [
      "4 3\n"
     ]
    }
   ],
   "source": [
    "n = int(input())\n",
    "command = list(map(str, input().split()))\n",
    "\n",
    "x, y = 1, 1\n",
    "\n",
    "\n",
    "def add(pos, dist):\n",
    "    if (pos + dist) > n:\n",
    "        pos = n\n",
    "    elif (pos + dist) < 1:\n",
    "        pos = 1\n",
    "    else:\n",
    "        pos += dist\n",
    "    return pos\n",
    "\n",
    "\n",
    "for c in command:\n",
    "    if c == 'L':\n",
    "        x = add(x, -1)\n",
    "    elif c == 'R':\n",
    "        x = add(x, 1)\n",
    "    elif c == 'U':\n",
    "        y = add(y, -1)\n",
    "    else:\n",
    "        y = add(y, 1)\n",
    "\n",
    "print(y, x)"
   ]
  },
  {
   "cell_type": "markdown",
   "source": [
    "### 교재에 있는 모범 답안을 토대로 작성한 코드"
   ],
   "metadata": {
    "collapsed": false
   }
  },
  {
   "cell_type": "code",
   "execution_count": 19,
   "outputs": [
    {
     "name": "stdout",
     "output_type": "stream",
     "text": [
      "3 4\n"
     ]
    }
   ],
   "source": [
    "n = int(input())\n",
    "x, y = 1, 1\n",
    "command = input().split()\n",
    "\n",
    "#L,R,U,D에 따른 이동 방향\n",
    "dx = [0, 0, -1, 1]\n",
    "dy = [-1, 1, 0, 0]\n",
    "movetypes = ['L', 'R', 'U', 'D']\n",
    "\n",
    "# 들어온 입력 커맨드를 확인\n",
    "for cmd in command:\n",
    "    i = movetypes.index(cmd) # 교재에는 반복문 이용해서 index를 추출했는데... index를 추출하는 함수 쓰는게 더 좋지 않을까 싶어 작성.\n",
    "    nx = x + dx[i]\n",
    "    ny = y + dy[i]\n",
    "    # 만약 공간을 벗어난 경우 이동 커맨드 무시\n",
    "    if nx < 1 or ny < 1 or nx > n or ny > n:\n",
    "        continue\n",
    "    x, y = nx, ny\n",
    "\n",
    "print(x, y)"
   ],
   "metadata": {
    "collapsed": false,
    "pycharm": {
     "name": "#%%\n"
    }
   }
  },
  {
   "cell_type": "code",
   "execution_count": null,
   "outputs": [],
   "source": [],
   "metadata": {
    "collapsed": false,
    "pycharm": {
     "name": "#%%\n"
    }
   }
  }
 ],
 "metadata": {
  "kernelspec": {
   "display_name": "Python 3",
   "language": "python",
   "name": "python3"
  },
  "language_info": {
   "codemirror_mode": {
    "name": "ipython",
    "version": 2
   },
   "file_extension": ".py",
   "mimetype": "text/x-python",
   "name": "python",
   "nbconvert_exporter": "python",
   "pygments_lexer": "ipython2",
   "version": "2.7.6"
  }
 },
 "nbformat": 4,
 "nbformat_minor": 0
}