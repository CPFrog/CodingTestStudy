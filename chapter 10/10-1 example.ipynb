{
 "cells": [
  {
   "cell_type": "markdown",
   "source": [
    "## 서로소 집합 (Disjoint Sets)\n",
    "* 서로소 부분 집합들로 나누어진 원소들의 데이터를 처리하기 위한 자료구조"
   ],
   "metadata": {
    "collapsed": false
   }
  },
  {
   "cell_type": "code",
   "execution_count": 1,
   "outputs": [
    {
     "name": "stdout",
     "output_type": "stream",
     "text": [
      "각 원소가 속한 집합: 1 1 1 1 5 5 \n",
      "부모 테이블:1 1 2 1 5 5 "
     ]
    }
   ],
   "source": [
    "# 특정 원소가 속한 집합 찾기\n",
    "def find_parent(parent, x):\n",
    "    # 루트노드가 아닐 경우 루트노드 찾을 때까지 재귀 호출\n",
    "    # 루트노드일 경우: parent가 자기 자신. 루트노드 아닐 경우: parent가 다른 노드.\n",
    "    if parent[x] != x:\n",
    "        return find_parent(parent, parent[x])\n",
    "    return parent[x]\n",
    "\n",
    "\n",
    "# 두 원소가 속한 집합 합치기\n",
    "def union_parent(parent, a, b):\n",
    "    a = find_parent(parent, a)\n",
    "    b = find_parent(parent, b)\n",
    "    if a < b:\n",
    "        parent[b] = a\n",
    "    else:\n",
    "        parent[a] = b\n",
    "\n",
    "\n",
    "# 노드의 개수와 간선(union 연산)의 개수 입력\n",
    "v, e = map(int, input().split())\n",
    "parent = [0] * (v + 1)  # 부모 테이블 초기화\n",
    "\n",
    "for i in range(1, v + 1):\n",
    "    parent[i] = i\n",
    "\n",
    "#union 연산을 각각 수행\n",
    "for i in range(e):\n",
    "    a, b = map(int, input().split())\n",
    "    union_parent(parent, a, b)\n",
    "\n",
    "#각 원소가 속한 집합 출력\n",
    "print('각 원소가 속한 집합: ', end='')\n",
    "for i in range(1, v + 1):\n",
    "    print(find_parent(parent, i), end=' ')\n",
    "\n",
    "print()\n",
    "\n",
    "print('부모 테이블: ', end='')\n",
    "for i in range(1, v + 1):\n",
    "    print(parent[i], end=' ')"
   ],
   "metadata": {
    "collapsed": false,
    "pycharm": {
     "name": "#%%\n"
    }
   }
  },
  {
   "cell_type": "markdown",
   "source": [
    "### 경로 압축 기법\n",
    "Line 5~7의 경우 비효율적인 코드임 --> 매 계산마다 재귀호출\n",
    "개선 방법? --> 경로 압축\n"
   ],
   "metadata": {
    "collapsed": false
   }
  },
  {
   "cell_type": "code",
   "execution_count": 2,
   "outputs": [],
   "source": [
    "# Line 5~7의 코드를 다음과 같이 바꾸면 된다.\n",
    "# 경로 압축 기법의 구현\n",
    "\n",
    "def find_parent(parent, x):\n",
    "    if parent[x] != x:\n",
    "        parent[x] = find_parent(parent, parent[x])\n",
    "    return parent[x]"
   ],
   "metadata": {
    "collapsed": false,
    "pycharm": {
     "name": "#%%\n"
    }
   }
  },
  {
   "cell_type": "markdown",
   "source": [
    "### 서로소 집합의 활용\n",
    "- 무방향 그래프 내에서 사이클을 판별할 때 사용할 수 있다.\n",
    "- -- 방향 그래프에서의 사이클: DFS\n",
    "- 판별 방법: 각 간선의 루트노드를 확인. 만약 루트노드가 같다면 Cycle이 발생한 것이고, 다르다면 union 연산 수행."
   ],
   "metadata": {
    "collapsed": false,
    "pycharm": {
     "name": "#%% md\n"
    }
   }
  },
  {
   "cell_type": "markdown",
   "source": [
    "#### 서로소 집합을 활용한 사이클 판별"
   ],
   "metadata": {
    "collapsed": false
   }
  },
  {
   "cell_type": "code",
   "execution_count": 11,
   "outputs": [
    {
     "name": "stdout",
     "output_type": "stream",
     "text": [
      "그래프 내에 사이클이 존재합니다.\n"
     ]
    }
   ],
   "source": [
    "def find_parent(parent, x):\n",
    "    if parent[x] != x:\n",
    "        parent[x] = find_parent(parent, parent[x])\n",
    "    return parent[x]\n",
    "\n",
    "\n",
    "def union_parent(parent, a, b):\n",
    "    a = find_parent(parent, a)\n",
    "    b = find_parent(parent, b)\n",
    "    if a < b:\n",
    "        parent[b] = a\n",
    "    else:\n",
    "        parent[a] = b\n",
    "\n",
    "\n",
    "v, e = map(int, input().split())\n",
    "\n",
    "# parent = [[i] for i in range(v + 1)]\n",
    "parent = [0] * (v + 1)\n",
    "for i in range(1, v + 1):\n",
    "    parent[i] = i\n",
    "\n",
    "cycle = False\n",
    "\n",
    "for i in range(e):\n",
    "    a, b = map(int, input().split())\n",
    "    # 사이클이 발생한 경우 종료\n",
    "    if find_parent(parent, a) == find_parent(parent, b):\n",
    "        cycle = True\n",
    "        break\n",
    "    else:\n",
    "        union_parent(parent, a, b)\n",
    "\n",
    "if cycle:\n",
    "    print('그래프 내에 사이클이 존재합니다.')\n",
    "else:\n",
    "    print('사이클이 없는 그래프입니다.')"
   ],
   "metadata": {
    "collapsed": false,
    "pycharm": {
     "name": "#%%\n"
    }
   }
  },
  {
   "cell_type": "markdown",
   "source": [
    "Line 18 관련\n",
    "parent를 선언할 때 반복문을 안쓰고 싶어서 별 뻘짓을 다해봤는데 다 실패함.\n",
    "[[i] for i in range(v+1)] -> 리스트가 되어버리기 때문에 불가\n",
    "([i] for i in range(v+1)] -> 객체 생성자 취급이 되어버려서 안됨."
   ],
   "metadata": {
    "collapsed": false
   }
  },
  {
   "cell_type": "markdown",
   "source": [
    "## 신장 트리\n",
    "* 하나의 그래프가 있을 떄 모든 노드를 포함하면서 사이클이 존재하지 않는 부분 그래프.\n",
    "### 대표적인 알고리즘\n",
    "- 크루스칼 알고리즘(최소 신장 트리 알고리즘) -> 그리디"
   ],
   "metadata": {
    "collapsed": false
   }
  },
  {
   "cell_type": "code",
   "execution_count": 2,
   "outputs": [
    {
     "name": "stdout",
     "output_type": "stream",
     "text": [
      "159\n"
     ]
    }
   ],
   "source": [
    "def find_parent(parent, x):\n",
    "    if parent[x] != x:\n",
    "        parent[x] = find_parent(parent, parent[x])\n",
    "    return parent[x]\n",
    "\n",
    "\n",
    "def union_parent(parent, a, b):\n",
    "    a = find_parent(parent, a)\n",
    "    b = find_parent(parent, b)\n",
    "    if a > b:\n",
    "        parent[a] = b\n",
    "    else:\n",
    "        parent[b] = a\n",
    "\n",
    "\n",
    "v, e = map(int, input().split())\n",
    "parent = [0] * (v + 1)\n",
    "\n",
    "edges = []\n",
    "result = 0\n",
    "\n",
    "for i in range(1, v + 1):\n",
    "    parent[i] = i\n",
    "\n",
    "for _ in range(e):\n",
    "    a, b, cost = map(int, input().split())\n",
    "    edges.append((cost, a, b))\n",
    "\n",
    "edges.sort(key=lambda x: x[0])\n",
    "\n",
    "for edge in edges:\n",
    "    cost, a, b = edge\n",
    "    if find_parent(parent, a) != find_parent(parent, b):\n",
    "        union_parent(parent, a, b)\n",
    "        result += cost\n",
    "\n",
    "print(result)"
   ],
   "metadata": {
    "collapsed": false,
    "pycharm": {
     "name": "#%%\n"
    }
   }
  },
  {
   "cell_type": "markdown",
   "source": [
    "## 위상 정렬(Topology Sort)\n",
    "* 방향 그래프의 모든 노드를 방향성에 거스르지 않도록 순서대로 나열하는 것\n",
    "* 어떤 작업에 대한 일 처리 순서등을 스케쥴링 하는 용도로 사용\n",
    "### 위상 정렬의 수행 과정\n",
    "1. 진입차수가 0인 노드를 큐에 넣는다\n",
    "2. 큐가 빌 때까지 하나씩 원소를 꺼내며 다음의 작업을 수행한다.\n",
    "    - 꺼낸 원소에서 출발하는 간선을 그래프에서 제거\n",
    "    - 새롭게 진입차수가 0이 된 노드를 큐에 삽입.\n",
    "\n",
    "위상 정렬은 주어진 그래프에 사이클이 존재한다면 모든 원소를 방문하기 전에 큐가 비어버림.\n",
    "- 대부분은 사이클이 존재하지 않는다고 명시해줌"
   ],
   "metadata": {
    "collapsed": false,
    "pycharm": {
     "name": "#%% md\n"
    }
   }
  },
  {
   "cell_type": "code",
   "execution_count": 4,
   "outputs": [
    {
     "name": "stdout",
     "output_type": "stream",
     "text": [
      "1 2 5 3 6 4 7 \n"
     ]
    }
   ],
   "source": [
    "from collections import deque\n",
    "\n",
    "# v=노드의 개수, e=간선의 개수\n",
    "v, e = map(int, input().split())\n",
    "enter_dim = [0] * (v + 1)  # 진입 차수 저장\n",
    "graph = [[] for i in range(v + 1)]\n",
    "\n",
    "for _ in range(e):\n",
    "    s, e = map(int, input().split())  # 간선에 대한 정보 등록\n",
    "    graph[s].append(e)  # 간선에 대한 정보를 인접 리스트에 등록.\n",
    "    enter_dim[e] += 1  # 간선의 끝점의 진입차수를 1 증가시킴\n",
    "\n",
    "def topology_sort():\n",
    "    ans=[] # 정답이 저장될 리스트\n",
    "    q=deque() # dequeue 선언\n",
    "\n",
    "    # 진입차수가 0인 노드들을 큐에 삽입\n",
    "    for i in range(1, v+1):\n",
    "        if enter_dim[i]==0:\n",
    "            q.append(i)\n",
    "\n",
    "    while q:\n",
    "        cur=q.popleft() # 큐에서 원소 1개 꺼내기\n",
    "        ans.append(cur) # 위상 정렬 결과가 저장될 리스트에 현재 노드 저장\n",
    "\n",
    "        # 현재 노드와 연결된 간선의 끝점에 있는 노드의 진입차수 1씩 감소시키기\n",
    "        for i in graph[cur]:\n",
    "            enter_dim[i]-=1\n",
    "            # 만약 진입차수가 0이 되었다면 다음 방문 노드 대기열에 넣음.\n",
    "            if enter_dim[i]==0:\n",
    "                q.append(i)\n",
    "\n",
    "    for i in ans:\n",
    "        print(i,end=' ')\n",
    "    print()\n",
    "\n",
    "topology_sort()"
   ],
   "metadata": {
    "collapsed": false,
    "pycharm": {
     "name": "#%%\n"
    }
   }
  },
  {
   "cell_type": "code",
   "execution_count": null,
   "outputs": [],
   "source": [],
   "metadata": {
    "collapsed": false,
    "pycharm": {
     "name": "#%%\n"
    }
   }
  }
 ],
 "metadata": {
  "kernelspec": {
   "display_name": "Python 3",
   "language": "python",
   "name": "python3"
  },
  "language_info": {
   "codemirror_mode": {
    "name": "ipython",
    "version": 2
   },
   "file_extension": ".py",
   "mimetype": "text/x-python",
   "name": "python",
   "nbconvert_exporter": "python",
   "pygments_lexer": "ipython2",
   "version": "2.7.6"
  }
 },
 "nbformat": 4,
 "nbformat_minor": 0
}