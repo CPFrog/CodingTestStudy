{
 "cells": [
  {
   "cell_type": "markdown",
   "source": [
    "## 실전문제 2. 성적이 낮은 순서로 학생 출력하기"
   ],
   "metadata": {
    "collapsed": false
   }
  },
  {
   "cell_type": "markdown",
   "source": [
    "### 내 방식으로 풀어본 코드"
   ],
   "metadata": {
    "collapsed": false
   }
  },
  {
   "cell_type": "code",
   "execution_count": 1,
   "metadata": {
    "collapsed": true
   },
   "outputs": [
    {
     "name": "stdout",
     "output_type": "stream",
     "text": [
      "이순신 홍길동 "
     ]
    }
   ],
   "source": [
    "n=int(input())\n",
    "\n",
    "def criteria(data):\n",
    "    return data[1]\n",
    "\n",
    "arr=[]\n",
    "for i in range(n):\n",
    "    name, score=input().split()\n",
    "    arr.append((name,int(score)))\n",
    "\n",
    "arr=sorted(arr,key=criteria)\n",
    "for i in range(n):\n",
    "    print(arr[i][0], end=' ')"
   ]
  },
  {
   "cell_type": "markdown",
   "source": [
    "#### 교재에 나온 코드 중 참고 할만한 부분"
   ],
   "metadata": {
    "collapsed": false
   }
  },
  {
   "cell_type": "code",
   "execution_count": null,
   "outputs": [],
   "source": [
    "sorted(arr, key=lambda student: student[1])\n",
    "# key값을 지정해주는 함수를 람다 함수로 지정한거.. 이런 유연한 발상 할 수 있는게 신기하네."
   ],
   "metadata": {
    "collapsed": false,
    "pycharm": {
     "name": "#%%\n"
    }
   }
  }
 ],
 "metadata": {
  "kernelspec": {
   "display_name": "Python 3",
   "language": "python",
   "name": "python3"
  },
  "language_info": {
   "codemirror_mode": {
    "name": "ipython",
    "version": 2
   },
   "file_extension": ".py",
   "mimetype": "text/x-python",
   "name": "python",
   "nbconvert_exporter": "python",
   "pygments_lexer": "ipython2",
   "version": "2.7.6"
  }
 },
 "nbformat": 4,
 "nbformat_minor": 0
}