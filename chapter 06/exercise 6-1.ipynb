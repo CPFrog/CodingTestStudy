{
 "cells": [
  {
   "cell_type": "markdown",
   "source": [
    "## 파이썬으로 정렬 알고리즘 구현"
   ],
   "metadata": {
    "collapsed": false
   }
  },
  {
   "cell_type": "markdown",
   "source": [
    "### 선택 정렬 (Selection Sort)"
   ],
   "metadata": {
    "collapsed": false
   }
  },
  {
   "cell_type": "code",
   "execution_count": 3,
   "metadata": {
    "collapsed": true
   },
   "outputs": [
    {
     "name": "stdout",
     "output_type": "stream",
     "text": [
      "[0, 1, 2, 3, 4, 5, 6, 7, 8, 9]\n"
     ]
    }
   ],
   "source": [
    "data = [7, 5, 9, 0, 3, 1, 6, 2, 4, 8]\n",
    "\n",
    "start = 0\n",
    "while start < len(data):\n",
    "    local_min = 10\n",
    "    min_idx = len(data)\n",
    "    for i in range(start, len(data), 1):\n",
    "        if data[i] < local_min:\n",
    "            local_min = data[i]\n",
    "            min_idx = i\n",
    "    temp = data[start]\n",
    "    data[start] = data[min_idx]\n",
    "    data[min_idx] = temp\n",
    "    start += 1\n",
    "\n",
    "print(data)"
   ]
  },
  {
   "cell_type": "markdown",
   "source": [
    "#### 위에 내 코드에서 개선할 점\n",
    "1. 굳이 가장 작은 값에 대한 정보를 별도의 변수로 들고 있을 필요가 있나? (배열 내에서도 처리할 수 있지 않나?)\n",
    "2. 파이썬에서 두 배열 원소간의 교환할 때 더 쉬운 방법이 있지 않을까?"
   ],
   "metadata": {
    "collapsed": false
   }
  },
  {
   "cell_type": "markdown",
   "source": [
    "#### 파이썬 스왑(Swap, 교환) 코드"
   ],
   "metadata": {
    "collapsed": false
   }
  },
  {
   "cell_type": "code",
   "execution_count": 4,
   "outputs": [
    {
     "name": "stdout",
     "output_type": "stream",
     "text": [
      "[0, 1, 2]\n"
     ]
    }
   ],
   "source": [
    "data = [0, 2, 1]\n",
    "data[1], data[2] = data[2], data[1]\n",
    "\n",
    "print(data)"
   ],
   "metadata": {
    "collapsed": false,
    "pycharm": {
     "name": "#%%\n"
    }
   }
  },
  {
   "cell_type": "markdown",
   "source": [
    "### 삽입 정렬(Insertion Sort)"
   ],
   "metadata": {
    "collapsed": false
   }
  },
  {
   "cell_type": "code",
   "execution_count": 9,
   "outputs": [
    {
     "name": "stdout",
     "output_type": "stream",
     "text": [
      "[0, 1, 2, 3, 4, 5, 6, 7, 8, 9]\n",
      "실행시간:  0.00011587142944335938\n"
     ]
    }
   ],
   "source": [
    "import time\n",
    "\n",
    "data = [7, 5, 9, 0, 3, 1, 6, 2, 4, 8]\n",
    "\n",
    "start_t = time.time()\n",
    "for end in range(len(data)):\n",
    "    for i in range(end):\n",
    "        if data[i] > data[end]:\n",
    "            temp = data[end]\n",
    "            data.remove(data[end])\n",
    "            data.insert(i, temp)\n",
    "            break\n",
    "\n",
    "end_t = time.time()\n",
    "\n",
    "print(data)\n",
    "print('실행시간: ', end_t - start_t)"
   ],
   "metadata": {
    "collapsed": false,
    "pycharm": {
     "name": "#%%\n"
    }
   }
  },
  {
   "cell_type": "markdown",
   "source": [
    "#### 교재에 나와있는 코드"
   ],
   "metadata": {
    "collapsed": false
   }
  },
  {
   "cell_type": "code",
   "execution_count": 10,
   "outputs": [
    {
     "name": "stdout",
     "output_type": "stream",
     "text": [
      "[0, 1, 2, 3, 4, 5, 6, 7, 8, 9]\n",
      "실행시간: 0.0001621246337890625\n"
     ]
    }
   ],
   "source": [
    "import time\n",
    "\n",
    "data = [7, 5, 9, 0, 3, 1, 6, 2, 4, 8]\n",
    "\n",
    "start_t = time.time()\n",
    "for i in range(1, len(data)):\n",
    "    for j in range(i, 0, -1):\n",
    "        if data[j] < data[j - 1]:\n",
    "            data[j], data[j - 1] = data[j - 1], data[j]\n",
    "        else:\n",
    "            break\n",
    "\n",
    "end_t = time.time()\n",
    "print(data)\n",
    "print('실행시간:', end_t - start_t)"
   ],
   "metadata": {
    "collapsed": false,
    "pycharm": {
     "name": "#%%\n"
    }
   }
  },
  {
   "cell_type": "markdown",
   "source": [
    "#### 아무리 봐도 교재에 있는 코드는 교환 횟수가 많이 있을거같음\n",
    "그래서 시간 비교하는 코드 삽입해본 결과..\n",
    "내 코드가 약 40% 빠름"
   ],
   "metadata": {
    "collapsed": false
   }
  },
  {
   "cell_type": "markdown",
   "source": [
    "### 퀵 정렬"
   ],
   "metadata": {
    "collapsed": false
   }
  },
  {
   "cell_type": "code",
   "execution_count": 3,
   "outputs": [
    {
     "name": "stdout",
     "output_type": "stream",
     "text": [
      "[0, 1, 2, 3, 4, 5, 6, 7, 8, 9]\n"
     ]
    }
   ],
   "source": [
    "data = [5, 7, 9, 0, 3, 1, 6, 2, 4, 8]\n",
    "\n",
    "\n",
    "def qsort(start_point, end_point, arr):\n",
    "    if end_point - start_point > 1:\n",
    "        pivot = start_point\n",
    "        l = start_point + 1\n",
    "        r = end_point\n",
    "        while l < r:\n",
    "            while l < len(arr) and arr[l] < arr[pivot]:\n",
    "                l += 1\n",
    "            while r >= 0 and arr[r] > arr[pivot]:\n",
    "                r -= 1\n",
    "            if l < r:\n",
    "                arr[l], arr[r] = arr[r], arr[l]\n",
    "                l += 1\n",
    "                r -= 1\n",
    "        arr[pivot], arr[l - 1] = arr[l - 1], arr[pivot]\n",
    "        if l > 0:\n",
    "            qsort(start_point, l - 1, arr)\n",
    "        if l + 1 < len(arr):\n",
    "            qsort(l + 1, end_point, arr)\n",
    "\n",
    "\n",
    "qsort(0,len(data)-1,data)\n",
    "print(data)"
   ],
   "metadata": {
    "collapsed": false,
    "pycharm": {
     "name": "#%%\n"
    }
   }
  },
  {
   "cell_type": "markdown",
   "source": [
    "#### 구현하는데 꽤 오래 걸렸는데...\n",
    "1. 퀵 정렬에 대한 개념을 다시 떠올리는데 좀 걸림\n",
    "2. slicing 방식으로 데이터를 나누려고 했는데 그렇게 되면 새로운 리스트가 지역적으로 생성되어 원본 데이터는 수정되지 않는 현상 발생. 이거 찾는데 좀 걸림."
   ],
   "metadata": {
    "collapsed": false
   }
  },
  {
   "cell_type": "markdown",
   "source": [
    "#### 책에는 버블정렬 관련 얘기가 없긴 한데 나중에 여유 있으면 한번 구현해보기."
   ],
   "metadata": {
    "collapsed": false
   }
  },
  {
   "cell_type": "markdown",
   "source": [
    "### 파이썬에서 제공하는 정렬 관련 메소드"
   ],
   "metadata": {
    "collapsed": false
   }
  },
  {
   "cell_type": "markdown",
   "source": [
    "#### 기본 라이브러리에 있는 함수: sorted()"
   ],
   "metadata": {
    "collapsed": false
   }
  },
  {
   "cell_type": "code",
   "execution_count": 5,
   "outputs": [
    {
     "name": "stdout",
     "output_type": "stream",
     "text": [
      "[0, 1, 2, 3, 4, 5, 6, 7, 8, 9]\n"
     ]
    }
   ],
   "source": [
    "data = [7, 5, 9, 0, 3, 1, 6, 2, 4, 8]\n",
    "\n",
    "print(sorted(data)) # 정렬된 리스트가 새로운 객체에 담겨서 반환됨."
   ],
   "metadata": {
    "collapsed": false,
    "pycharm": {
     "name": "#%%\n"
    }
   }
  },
  {
   "cell_type": "markdown",
   "source": [
    "#### 리스트 자료형의 내장 함수 : sort()"
   ],
   "metadata": {
    "collapsed": false
   }
  },
  {
   "cell_type": "code",
   "execution_count": 6,
   "outputs": [
    {
     "name": "stdout",
     "output_type": "stream",
     "text": [
      "[0, 1, 2, 3, 4, 5, 6, 7, 8, 9]\n"
     ]
    }
   ],
   "source": [
    "data = [7, 5, 9, 0, 3, 1, 6, 2, 4, 8]\n",
    "\n",
    "data.sort()\n",
    "print(data) # 리스트 안의 자료들을 정렬 한 후 리스트 덮어쓰기."
   ],
   "metadata": {
    "collapsed": false,
    "pycharm": {
     "name": "#%%\n"
    }
   }
  },
  {
   "cell_type": "markdown",
   "source": [
    "#### 추가 옵션: key\n",
    "- dictionary나 tuple에서 특정 값을 기준으로 정렬하고 싶을 때 사용하는 옵션."
   ],
   "metadata": {
    "collapsed": false
   }
  },
  {
   "cell_type": "code",
   "execution_count": 7,
   "outputs": [
    {
     "name": "stdout",
     "output_type": "stream",
     "text": [
      "[('메론', 3), ('바나나', 7), ('수박', 9)]\n"
     ]
    }
   ],
   "source": [
    "fruit_code=[('메론',3),('수박',9),('바나나',7)]\n",
    "\n",
    "def setting(pair):\n",
    "    return pair[1]\n",
    "\n",
    "print(sorted(fruit_code, key=setting))"
   ],
   "metadata": {
    "collapsed": false,
    "pycharm": {
     "name": "#%%\n"
    }
   }
  },
  {
   "cell_type": "code",
   "execution_count": null,
   "outputs": [],
   "source": [],
   "metadata": {
    "collapsed": false,
    "pycharm": {
     "name": "#%%\n"
    }
   }
  }
 ],
 "metadata": {
  "kernelspec": {
   "display_name": "Python 3",
   "language": "python",
   "name": "python3"
  },
  "language_info": {
   "codemirror_mode": {
    "name": "ipython",
    "version": 2
   },
   "file_extension": ".py",
   "mimetype": "text/x-python",
   "name": "python",
   "nbconvert_exporter": "python",
   "pygments_lexer": "ipython2",
   "version": "2.7.6"
  }
 },
 "nbformat": 4,
 "nbformat_minor": 0
}