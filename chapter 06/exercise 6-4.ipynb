{
 "cells": [
  {
   "cell_type": "markdown",
   "source": [
    "## 실전문제 3. 두 배열의 원소 교체"
   ],
   "metadata": {
    "collapsed": false,
    "pycharm": {
     "name": "#%% md\n"
    }
   }
  },
  {
   "cell_type": "markdown",
   "source": [
    "### 내 방식으로 풀어본 코드"
   ],
   "metadata": {
    "collapsed": false
   }
  },
  {
   "cell_type": "code",
   "execution_count": 1,
   "outputs": [
    {
     "name": "stdout",
     "output_type": "stream",
     "text": [
      "26\n"
     ]
    }
   ],
   "source": [
    "n,k=map(int, input().split())\n",
    "\n",
    "data=[]\n",
    "for i in range(2):\n",
    "    data.append(list(map(int, input().split())))\n",
    "\n",
    "data[0].sort()\n",
    "data[1].sort(reverse=True)\n",
    "\n",
    "for i in range(k):\n",
    "    if data[0][i]<data[1][i]:\n",
    "        data[0][i], data[1][i]=data[1][i], data[0][i]\n",
    "    else: break\n",
    "\n",
    "print(sum(data[0]))"
   ],
   "metadata": {
    "collapsed": false,
    "pycharm": {
     "name": "#%%\n"
    }
   }
  },
  {
   "cell_type": "code",
   "execution_count": null,
   "outputs": [],
   "source": [],
   "metadata": {
    "collapsed": false,
    "pycharm": {
     "name": "#%%\n"
    }
   }
  }
 ],
 "metadata": {
  "kernelspec": {
   "display_name": "Python 3",
   "language": "python",
   "name": "python3"
  },
  "language_info": {
   "codemirror_mode": {
    "name": "ipython",
    "version": 2
   },
   "file_extension": ".py",
   "mimetype": "text/x-python",
   "name": "python",
   "nbconvert_exporter": "python",
   "pygments_lexer": "ipython2",
   "version": "2.7.6"
  }
 },
 "nbformat": 4,
 "nbformat_minor": 0
}